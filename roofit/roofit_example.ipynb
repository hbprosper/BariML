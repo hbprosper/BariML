{
 "cells": [
  {
   "cell_type": "markdown",
   "metadata": {},
   "source": [
    "# RooFit Tutorial\n",
    "## Fit Cosmological Models to Type 1a Supernova Data\n",
    "### Created:  Summer 2017 Harrison B. Prosper\n",
    "#### Updated: October 2019, Bari, Italy\n",
    "## Introduction\n",
    "In this tutorial, you will learn how to use the probability modeling package __[RooFit](https://root.cern.ch/roofit-20-minutes)__, released with the CERN data analysis package __[ROOT](http://root.cern.ch)__, to perform simple fits of cosmological models to Type 1a supernova data. \n",
    "\n",
    " >__Prerequisite__: some familiarity with __[Python](http://www.python.org)__ and __[ROOT](http://root.cern.ch)__ is helpful.\n",
    "\n",
    "\n",
    "A __[Type Ia supernova](https://en.wikipedia.org/wiki/Type_Ia_supernova)__ is thought to be the thermonuclear detonation of a carbon-oxygen white dwarf whose mass has reached the __[Chandrasekhar limit](https://en.wikipedia.org/wiki/Chandrasekhar_limit)__ of about 1.4 times the mass of the Sun. Beyond that mass limit, the pressure of the electron gas due to the Pauli exclusion principle is insufficient to keep the white dwarf stable. The favored model of Type Ia supernovae is a binary system in which a white dwarf accretes hydrogen from its red giant partner until the white dwarf reaches the point of thermonuclear instability. The fact that roughly the same mass explodes each time, namely 1.4 solar masses, which makes the explosions immensely luminous, makes Type 1a supernovae excellent markers for measuring cosmological distances. While there is some variation in the luminosity of these explosions, it turns out that through a simple empirical procedure it is possible to convert these explosions into __standard candles__. Given a standard candle, that is, a system of known luminosity and therefore known intrinsic brightness, and given the system's apparent brightness, the inverse square law can be used to infer the distance to the system. If we can determine the distance and redshift $z = (\\lambda_o - \\lambda_e)/ \\lambda_e$ for many Type 1a supernovae, we can use these data to infer the parameters of cosmological models. The observed wavelength $\\lambda_o$ is readily measured, while the emitted wavelength $\\lambda_e$, that is, the wavelength of the light emitted by the supernova in its rest frame, can be inferred by identifying the known spectral lines of the excited atoms and molecules.\n",
    "\n",
    "Current cosmological models of the universe are based on the __1st Friedmann equation__,\n",
    "\\begin{equation}\n",
    "\\left(\\frac{\\dot{a}}{a} \\right)^2 = \\frac{8\\pi G}{3}\\rho(a) - \\frac{K c^2}{a^2} + \\frac{\\Lambda c^2}{3},\n",
    "\\end{equation}\n",
    "and the __Friedmann-Lemaitre-Robertson-Walker__ (FLRW) metric\n",
    "\\begin{equation}\n",
    "    ds^2 = (c dt)^2 - a^2(t)\\left[ \\frac{dr^2}{1 - Kr^2} + r^2 (d\\theta^2 + \\sin^2\\theta \\, d\\phi^2) \\right],\n",
    "\\end{equation}\n",
    "where $a(t)$ is a dimensionless function, called the __scale factor__, that models how __proper distances__ change with cosmic time $t$. The proper distance is the spacetime separation between *simultaneous* events. By convention, the scale factor is normalized so that $a(t_0) = 1$ at the present epoch $t_0$, which is the elapsed time since the Big Bang, defined by $a(0) = 0$. $G$ is the gravitational constant, $c$ the speed of light in vacuum, $\\dot{a} \\equiv da/dt$, and $\\rho c^2$ is the density of all forms of energy excluding that due to the cosmological constant $\\Lambda$ or dark energy. The constant $K$, which has units of inverse area, is the global curvature of space. \n",
    "\n",
    "Care must be exercised in interpreting the symbols of any metric. For example, the radial coordinate $r$ is not the proper distance between the center of the sphere at $r = 0$ and the sphere! The operational meaning of the radial coordinate $r$ is simply $r = \\sqrt{A \\, / \\, (4\\pi)}$, where $A$ is the __proper area__ of the sphere centered at $r = 0$, *today*. The proper area is the area defined by a set of simultaneous events forming a 2-dimensional surface. The proper distance between any two nearby galaxies today, when by choice $a(t_0) = 1$, is the square root of the term in square brackets in the FLRW metric. The invariant distance, $|ds| = d\\chi$, is called the __comoving distance__ because the coordinate grid that defines it expands with the universe. Therefore, if a galaxy is stationary with respect to this expanding grid, its comoving coordinates (relative to some origin) do not change. By choice, comoving distances match proper distances today; at any other cosmic time $t$, the proper distance between any two galaxies, which are not necessarily nearby, is given by \n",
    "    \\begin{equation}\n",
    "    d(t) = a(t) \\, \\chi.\n",
    "    \\end{equation}\n",
    "\n",
    "The motion of galaxies relative to the comoving grid, the so-called __perculiar motion__, is small (roughly on the order of 200 km/s) compared with the speed of light. Therefore, on the scale of millions of years, it is a very good approximation to presume that the same time $t$ since the Big Bang can be assigned to all galaxies, that is, that all galaxies share the same surfaces of simultaneity. This is just as well, because it makes it possible to describe the evolution of the universe in a way that is not specific to our particular circumstance. Ironically, however, this is a highly non-relativistic way to conceptual spacetime. In principle, spacetime is to be regarded as a completed 4-dimensional *thing* that doesn't evolve; spacetime just is!\n",
    "\n",
    "Let us calculate the comoving distance between a supernova placed at the origin of our coordinate system and the Milky Way galaxy, which is at spatial coordinates $(r, \\, \\theta, \\, \\phi)$. The comoving distance to be calculated lies along the radial direction, for which $d\\theta = d\\phi = 0$. Since, by choice, $a(t_0) = 1$ *today* and the comoving distance matches the proper distance, for which $dt = 0$, it follows from the FLRW metric that \n",
    "$$\\chi = \\int_0^r d\\chi = \\int_0^r \\frac{dy}{\\sqrt{1 - K y^2}} = \\sin^{-1}(\\sqrt{K} \\, r) / \\sqrt{K},$$\n",
    "where, in order to avoid confusion, $y$ is used as the integration variable to distinguish it from its lower and upper bounds. The result can be inverted to give the coordinate distance\n",
    "    \\begin{equation}\n",
    "    r = \\sin(\\sqrt{K}\\chi)/\\sqrt{K}, \n",
    "    \\end{equation}\n",
    "in terms of the comoving distance $\\chi$.\n",
    "\n",
    "## First Friedmann Equation\n",
    "Consider the scaling law $d(t) = a(t) \\, \\chi$ and its derivative $\\dot{d} = \\dot{a} \\, \\chi$ with respect to the cosmic time $t$. If we interpret $v(t) = \\dot{d}$ as the __proper velocity__ of the expansion, then we arrive at the general form of Hubble's law\n",
    "$$v(t) = H(t) \\, d(t),$$\n",
    "where $H(t) = \\dot{a} / a$ is called the __Hubble parameter__ and __Hubble's constant__ is, by definition, $H_0 = H(t_0)$. Therefore, the Friedmann equation at time $t_0$ is \n",
    "$$H_0^2 = \\frac{8\\pi G}{3}\\rho(1) - K c^2 + \\frac{\\Lambda c^2}{3},$$\n",
    "or, equivalently,\n",
    "$$1 = \\frac{8\\pi G}{3H_0^2}\\rho(1) - \\frac{K c^2}{H_0^2} + \\frac{\\Lambda c^2}{3 H_0^2}.$$\n",
    "Notice that each term on the right-hand side is dimensionless, suggesting that it might be useful to define the dimensionless functions \n",
    "\\begin{eqnarray}\n",
    "    \\Omega_M(a) & = & \\frac{8\\pi G}{3H_0^2}\\rho(a), \\nonumber\\\\\n",
    "    \\Omega_K(a) & = & - \\frac{K c^2}{H_0^2} \\frac{1}{a^2}, \\quad\\textrm{and}\\nonumber\\\\\n",
    "    \\Omega_\\Lambda & = & \\frac{\\Lambda c^2}{3 H_0^2},\n",
    "\\end{eqnarray}\n",
    "for arbitrary values of $a$. It is also useful to define\n",
    "$\\Omega(a)$ as the sum of these functions. Then, we can write the 1st Friedmann equation as\n",
    "\\begin{equation}\n",
    "\\dot{a} = H_0 a \\sqrt{\\Omega(a)}.\n",
    "\\end{equation}\n",
    "Notice also that the quantities $\\Omega_M(1)$, $\\Omega_K(1)$, and $\\Omega_\\Lambda$ satisfy the sum rule\n",
    "    \\begin{equation}\n",
    "    \\Omega(1) = \\Omega_M(1) + \\Omega_K(1) + \\Omega_\\Lambda = 1,\n",
    "    \\end{equation}\n",
    "irrespective of the cosmological model.\n",
    "\n",
    "For simplicity, we shall take the dimensionless functions written *without* the dependence on $a$ to be the values of the functions evaluated at $a = 1$; for example, $\\Omega_M$ is a synonym for $\\Omega_M(1)$. The alternative convention is to append the subscript 0 to each symbol to denote its value today, e.g., $\\Omega_{M0}$.\n",
    "\n",
    "\n",
    "## Cosmological Models\n",
    "For our purposes, a cosmological model is a mathematical description of how the dimensionless density $\\Omega(a)$ in the model universe evolves with the scale factor $a$ together with dependence of the scale factor on the cosmic time $t$, obtained by solving the (1st) Friedmann equation $\\dot{a} = H_0 a \\sqrt{\\Omega(a)}.$\n",
    "\n",
    "In this tutorial, we consider two cosmological models, the standard model of cosmology $\\Lambda\\textrm{CDM}$ in which on every surface of simultanaeity (also known as 3-d space at a given time!) the model universe is filled with a homogeneous distribution of massless particles, a pressureless dust of galaxies, and a cosmological constant $\\Lambda$. The second model (which I cooked up during an introductory class I taught on modern physics) is a phantom energy model in which I assume the validity of the Friedmann equation. \n",
    "\n",
    "### $\\Lambda\\textrm{CDM}$ Model\n",
    "During most of the history of the universe, the energy density due to massless particles is negligible. Therefore, in a universe in which matter is conserved, we can write\n",
    "$$\\Omega_M(a) = \\frac{\\Omega_M}{a^3}.$$\n",
    "This makes sense because if we double proper distances, we expect the matter density to go down by $2^3$. The $\\Lambda\\textrm{CDM}$ model is therefore defined by\n",
    "\\begin{equation}\n",
    "\\Omega(a) = \\frac{\\Omega_M}{a^3} + \\frac{1 - \\Omega_M - \\Omega_\\Lambda}{a^2} + \\Omega_\\Lambda,\n",
    "\\end{equation}\n",
    "where $\\Omega_M$, $\\Omega_\\Lambda$, and $H_0$ are the free parameters of the model.\n",
    "\n",
    "### A Phantom Energy Model\n",
    "This model is defined by\n",
    "    \\begin{equation}\n",
    "    \\Omega(a) = \\frac{e^{a^n - 1}}{a^3},\n",
    "    \\end{equation}\n",
    "and the parameters $n$ and $H_0$. Given the degeneracy inherent in the Friedmann equation, any model $\\Omega(a)$ is consistent with infinitely many universes, each differing in content! For example, it is possible to regard the phantom energy model as one in which the phantom energy is coupled to matter in such a way that \n",
    "$$\\Omega(a) = \\frac{\\Omega_M}{a^3} + \\frac{e^{a^n - 1} - \\Omega_M}{a^3}.$$\n",
    "But, since neither the curvature parameter $\\Omega_K$ nor the mass parameter $\\Omega_M$ are identifiable in this model, we can choose their values at will. In particular, in order to be consistent with observations, we can choose  $\\Omega_K = 0$ and $\\Omega_M \\approx 0.30$!\n",
    "In phantom energy models energy appears in the vacuum out of nowhere, which would seem to violate a cherished principle. But is this really any stranger than the Big Bang itself? \n",
    "\n",
    "This phantom energy model can  be integrated exactly. We find\n",
    "    \\begin{equation}\n",
    "    H_0 t = \\sqrt{e} \\, 2^{3/(2n)} \\, \\Gamma(3/(2n), \\, a^n \\, / \\, 2) \\, / \\, n,\n",
    "    \\end{equation}\n",
    "which exhibits a future singularity characterized by the condition $a \\rightarrow \\infty$ at a *finite* time. This singularity, dubbed a __Big Rip__, in which everything is stretched to infinite distances, occurs at\n",
    "    \\begin{equation}\n",
    "    t_\\textrm{rip} = \\frac{1}{H_0}\\sqrt{e} \\, 2^{3/(2n)} \\, \\Gamma(3/(2n)) \\, / \\, n .\n",
    "    \\end{equation}\n",
    "You can verify with this notebook that both the $\\Lambda\\textrm{CDM}$ and this phantom energy model  fit the supernova data equally well. \n",
    "\n",
    "The function $\\Gamma(s, x) = \\int_0^x \\, t^{s - 1} \\, e^{-t} \\, dt$ is the \n",
    "__[incomplete gamma function](http://mathworld.wolfram.com/IncompleteGammaFunction.html)__.\n",
    "\n",
    "## Distance Modulus\n",
    "In a non-expanding universe, the energy flux $f$ from a supernova of luminosity $L$ (in watts), is given by the inverse square law, \n",
    "\\begin{equation}\n",
    "f = \\frac{L}{4 \\pi \\, r^2}.\n",
    "\\end{equation}\n",
    "However, in an expanding universe, the luminosity crossing a sphere of proper area $A = 4 \\pi \\, r^2$ is reduced by the factor $(1 + z)^2$; one factor of $(1 + z)$ arises from the reduction in a photon's energy by the time it reaches the sphere due to the expansion of the universe, and another factor arises from the lower rate at which photons arrive, again because of the expansion. Therefore, in an expanding universe the flux through the sphere today is given by \n",
    "\\begin{equation}\n",
    "f = \\frac{L}{4 \\pi \\, d_L^2},\n",
    "\\end{equation}\n",
    "where\n",
    "\\begin{eqnarray}\n",
    "    d_L & = & (1 + z) \\, r, \\nonumber\\\\\n",
    "    & = & (1 + z) \\, \\sin(\\sqrt{K}\\chi)/\\sqrt{K},\n",
    "\\end{eqnarray} is called the __luminosity distance__.\n",
    "\n",
    "Astronomers are fond of odd units. Rather than work with flux, they use apparent magnitude $m$, defined by $f = q 10^{-2 m / 5} = L / (4 \\pi d_L^2),$ \n",
    "where $q$ is the flux of objects of zero magnitude. In addition, astronomers define an absolute magnitude $M$ through $f_M = q 10^{-2 M / 5} = L /(4 \\pi d_M^2)$. The absolute magnitude of an object is its apparent magnitude if it were placed at a distance of $d_M = 10\\,\\textrm{parsecs}$, that is, $10^{-5}$ mega-parsecs (Mpc). The standard measure of distance used in observational cosmology is the distance modulus $\\mu = m - M$, which, noting that $f_M / f = 10^{2 (m - M)/5} = (d_L / 10^{-5})^2$, is given by\n",
    "\\begin{align}\n",
    "    \\mu &= 5 \\log_{10}(d_L/10^{-5}),\\\\\n",
    "        &= 5 \\log_{10}[(1 + z) \\, \\sin(\\sqrt{K}\\chi)/(\\sqrt{K} 10^{-5})].\n",
    "\\end{align}\n",
    "\n",
    "\n",
    "\n",
    "## Comoving Distance\n",
    "\n",
    "We need to express the comoving distance $\\chi$ in terms of the parameters of the cosmological model, which are encoded in $\\Omega(a)$.\n",
    "To that end, consider the worldline of a photon in spacetime. Massless particles travel on __null geodesics__, defined by $ds = 0$, for which \n",
    "$$c dt = a(t) d\\chi.$$ \n",
    "The latter expression is deceptively simple. The left-hand side states that a photon travels a distance $c dt$ from some event $A(t)$ to a *non-simultaneous* event $B(t + dt)$. But, on the right-hand side, the comoving distance $d\\chi$, which by definition is between *simultaneous* events $A(t)$ and $B(t)$, is scaled by the factor $a(t)$ to give the proper distance $a(t) d\\chi$ between these events at time $t$. The correspondence between the distance traveled by light between events $A(t)$ and $B(t + dt)$ and the proper distance between events $A(t)$ and $B(t)$ permits the use of the worldline of a photon as a standard ruler to measure proper distances. We simply take the distance traveled by a photon, $c dt$, and scale it by $1/a(t)$ to obtain the comoving distance $d\\chi = c dt \\, / \\, a(t)$. In order to compute the comoving distance $\\chi$ between a supernova explosion at time $t_1$ whose light is detected, now, at time $t_0$, we need merely compute the integral\n",
    "\\begin{eqnarray}\n",
    "   \\chi & = & \\int_{t_1}^{t_0} \\frac{c dt}{a}, \\nonumber\\\\\n",
    "            & = & c \\int_{1/(1+z)}^{1} \\frac{da}{a \\dot{a}},\n",
    "\\end{eqnarray}\n",
    "where $a(t_1) = 1/(1+z)$ is the scale factor at the time of the supernova explosion and $a(t_0) = 1$ is the scale factor when the light is detected.\n",
    "After replacing $\\dot{a}$ with the right-hand side of the Friedmann equation $\\dot{a} = H_0 a \\sqrt{\\Omega(a)}$, and defining the dimensionless function\n",
    "<div class=\"alert alert-block alert-warning\">\n",
    "\\begin{equation}\n",
    "\\boxed{\n",
    "    u(z) \\equiv \\int_{1/(1+z)}^{1} \\frac{da}{a^2\\sqrt{\\Omega(a)}}}\\, ,\n",
    "\\end{equation}\n",
    "</div>\n",
    "we find\n",
    "\\begin{equation}\n",
    "    \\chi = \\frac{c}{H_0} \\, u(z).\n",
    "\\end{equation}\n",
    "\n",
    "In the luminosity distance, $d_L = (1 + z) \\, \\sin(\\sqrt{K}\\chi)/\\sqrt{K}$, the product $\\sqrt{K}\\chi$ is necessarily dimensionless. Recall that $\\Omega_K = -K c^2 / H_0^2$; therefore, $\\sqrt{K} = \\sqrt{-\\Omega_K}\\, H_0 / \\, c$. \n",
    "Consequently,  $\\sqrt{K}\\chi = \\sqrt{-\\Omega_K} \\, u$. Therefore,\n",
    "we can rewrite the luminosity distance as the product \n",
    "    \\begin{equation}\n",
    "    d_L = \\frac{c}{H_0} \\, (1 + z) \\, \\sin(\\sqrt{-\\Omega_K} \\, u)\\, / \\, \\sqrt{-\\Omega_K},\n",
    "    \\end{equation}\n",
    "of the __Hubble distance__ $c \\, / \\, H_0$ and a dimensionless\n",
    "function of the cosmological parameters, which leads to the final form of the distance modulus, namely,\n",
    "\n",
    "<div class=\"alert alert-block alert-warning\">\n",
    "\\begin{equation}\n",
    "\\boxed{\\,\n",
    "    \\mu = 5 \\log_{10}[(1 + z) \\, \\sin(\\sqrt{-\\Omega_K} \\, u)\\, / \\, \\sqrt{-\\Omega_K}] - 5 \\log_{10}(H_0) + 5 \\log_{10}(c) + 25\\,}\\,.\n",
    "\\end{equation}\n",
    "</div>\n",
    "\n",
    "Note that $\\sin(\\sqrt{-\\Omega_K} \\, u)\\, / \\, \\sqrt{-\\Omega_K} \\rightarrow u$ as $\\Omega_K \\rightarrow 0$, that is, in the limit of a globally flat spatial geometry.\n",
    "\n",
    "## Lifetime of the Universe\n",
    "\n",
    "Through a slight rearrangement of the Friedmann equation, $\\dot{a} = H_0 a \\sqrt{\\Omega(a)}$, we can find $t$ as a function of the scale factor, $a$, \n",
    "    \\begin{equation}\n",
    "    t = \\frac{1}{H_0}\\int_0^a \\frac{dy}{y \\sqrt{\\Omega(y)}}.\n",
    "    \\end{equation}\n",
    "By construction, the elapsed time since the Big Bang, $t_0$, is obtained by setting $a = 1$ in the function $t(a)$.\n",
    "\n",
    "## Fitting Models to Supernova Data\n",
    "\n",
    "For each supernova, $i$, of which there are $N = 580$ in the __[Union 2.1 compilation](http://supernova.lbl.gov/union/)__, the data comprises the redshift $z_i$, which is measured with negligible error, the measured distance modulus $y_i$ and the associated uncertainty $dy_i = \\sigma_i$, which is taken to be the standard deviation of a Gaussian likelihood,\n",
    "$$p(y_i\\,|\\,z_i, \\sigma_i, \\theta) = \\textrm{Gauss}(y_i, \\mu(z_i, \\theta), \\sigma_i),$$\n",
    "where $\\theta$ denote the cosmological parameters.\n",
    "The supernova data are __heteroscadastic__, which means that the standard deviations $\\sigma_i$ vary from one supernova to the next. Neglecting correlations between the measurements, we can write the overall likelihood of the supernova data as\n",
    "$$p(y\\,|\\,z, \\sigma, \\theta) = \\prod_{i=1}^{N} \\, p(y_i\\,|\\,z_i, \\sigma_i, \\theta).$$\n",
    "The best fit values are obtained via maximum likelihood, or equivalently, by minimizing the negative log-likelihood,\n",
    "which for data with Gaussian errors is the same as minimizing the $\\chi^2$,\n",
    "<div class=\"alert alert-block alert-warning\">\n",
    "$$\\chi^2(\\theta) = \\sum_{i=1}^{N} \\, \\left[\\frac{y_i - \\mu(z_i, \\theta)}{\\sigma_i} \\right]^2.$$\n",
    "</div>\n",
    "\n",
    "For a good fit, we expect $\\textrm{min}[\\chi^2] / \\textrm{NDF} \\approx 1$, where the number of degrees of freedom (NDF) $= N - P$, where $P$ is the number of free parameters.\n",
    "\n"
   ]
  },
  {
   "cell_type": "markdown",
   "metadata": {},
   "source": [
    "## 1: Create Probability Model"
   ]
  },
  {
   "cell_type": "code",
   "execution_count": 1,
   "metadata": {},
   "outputs": [
    {
     "name": "stdout",
     "output_type": "stream",
     "text": [
      "Welcome to JupyROOT 6.18/04\n"
     ]
    }
   ],
   "source": [
    "import os, sys\n",
    "import ROOT\n",
    "from array import array\n",
    "\n",
    "# plotting\n",
    "import matplotlib as mp\n",
    "import matplotlib.pyplot as plt\n",
    "import pylab as pl\n",
    "\n",
    "# display all plots inline \n",
    "%matplotlib inline"
   ]
  },
  {
   "cell_type": "markdown",
   "metadata": {},
   "source": [
    "### Model parameters\n",
    "\n",
    "  * ID: model identifier\n",
    "  * free: specifies whether parameter is free\n",
    "  * name: name of parameter\n",
    "  * guess: starting (or fixed) value of parameter\n",
    "  * step: step size during minimization\n",
    "  * min, max: parameter range"
   ]
  },
  {
   "cell_type": "code",
   "execution_count": 2,
   "metadata": {},
   "outputs": [],
   "source": [
    "#       ID        free,  name, guess,   step,      min,  max\n",
    "PARAMS={'LCDM' :  \n",
    "        [0, '$\\Lambda$CDM ($H_0, \\,\\Omega_M, \\,\\Omega_\\Lambda$)', \n",
    "                [(True,  'OM',     1,   1.e-3,     0,   10),\n",
    "                 (True,  'OL',     0,   1.e-3,     -10, 10),\n",
    "                 (True,  'H0',    70,   1.e-2,     0,  200)]],\n",
    "          \n",
    "          'phantom':\n",
    "        [1,  'phantom ($H_0, \\, n$)',\n",
    "                [(False, 'OM',     1,   1.e-3,     0,   10),\n",
    "                 (False, 'OL',     0,   1.e-3,     -10, 10),\n",
    "                 (True,  'H0',    70,   1.e-2,     0,  200),\n",
    "                 (True,  'n',      2,   1.e-3,     0,   10)]]           \n",
    "         }\n",
    "# define ranges for redshifts and distance moduli\n",
    "ZMIN  = 0.0 \n",
    "ZMAX  = 1.6\n",
    "MUMIN = 32.0\n",
    "MUMAX = 48.0"
   ]
  },
  {
   "cell_type": "markdown",
   "metadata": {},
   "source": [
    "### Choose model\n",
    "   * MODEL = 'LCDM' or 'phantom'"
   ]
  },
  {
   "cell_type": "code",
   "execution_count": 3,
   "metadata": {},
   "outputs": [],
   "source": [
    "MODEL = 'phantom'"
   ]
  },
  {
   "cell_type": "markdown",
   "metadata": {},
   "source": [
    "### Compile C++ classes Model and CosmicCode\n",
    "   * __Model__ defines $\\Omega(a)$ for the cosmological models\n",
    "   * __CosmicCode__ computes the distance modulus\n",
    "   * The model identifier, ID, is used later in some inline C++ code. Therefore, ID needs to be added to the ROOT namespace; that is, ROOT needs to know about it."
   ]
  },
  {
   "cell_type": "code",
   "execution_count": 4,
   "metadata": {},
   "outputs": [],
   "source": [
    "def compileModel(modelname, modelparams):\n",
    "    ROOT.gROOT.ProcessLine(open('CosmicCode.cc').read())\n",
    "    \n",
    "    # make sure model name is valid\n",
    "    if not modelname in modelparams.keys():\n",
    "        sys.exit(\"** unknown model %s\" % modelname)\n",
    "    \n",
    "    # return model id and model parameters\n",
    "    ID, title, params = modelparams[modelname]\n",
    "    \n",
    "    # add ID to ROOT namespace\n",
    "    ROOT.gROOT.ProcessLine('int ID = %d;' % ID)\n",
    "    return title, params"
   ]
  },
  {
   "cell_type": "code",
   "execution_count": 5,
   "metadata": {},
   "outputs": [],
   "source": [
    "title, params = compileModel(MODEL, PARAMS)"
   ]
  },
  {
   "cell_type": "markdown",
   "metadata": {},
   "source": [
    "### A useful bit of ROOT magic: mixing in a bit of C++\n",
    "Here we create a bit of C++ code, which will be visible to both ROOT and Python. The object __code__ and the function __distanceModulus__ are used below in the definition of the probability model."
   ]
  },
  {
   "cell_type": "code",
   "execution_count": 6,
   "metadata": {},
   "outputs": [
    {
     "name": "stdout",
     "output_type": "stream",
     "text": [
      "\n",
      "\tphantom model\n",
      "\n"
     ]
    }
   ],
   "source": [
    "%%cpp -d\n",
    "Model model(ID);\n",
    "CosmicCode code(model);\n",
    "double distanceModulus(double z, \n",
    "                       double OM, \n",
    "                       double OL, \n",
    "                       double H0, \n",
    "                       double n=2)\n",
    "{\n",
    "    double p[4] = {OM, OL, H0, n};\n",
    "    return code.distanceModulus(z, p);\n",
    "}"
   ]
  },
  {
   "cell_type": "markdown",
   "metadata": {},
   "source": [
    "### Add $distanceModulus$  to the Python namespace"
   ]
  },
  {
   "cell_type": "code",
   "execution_count": 7,
   "metadata": {},
   "outputs": [],
   "source": [
    "from ROOT import distanceModulus"
   ]
  },
  {
   "cell_type": "markdown",
   "metadata": {},
   "source": [
    "### Create workspace\n",
    "Create an empty workspace called __Type1a__. This is useful for at least two reasons. First, you may wish to save the probability model you have created to a ROOT file. Second, it is much more convenient to use the workspace methods to build a model than to use the __[RooFit](https://root.cern.ch/roofit-20-minutes)__ C++ classes directly."
   ]
  },
  {
   "cell_type": "code",
   "execution_count": 8,
   "metadata": {},
   "outputs": [
    {
     "name": "stdout",
     "output_type": "stream",
     "text": [
      "\n",
      "\u001b[1mRooFit v3.60 -- Developed by Wouter Verkerke and David Kirkby\u001b[0m \n",
      "                Copyright (C) 2000-2013 NIKHEF, University of California & Stanford University\n",
      "                All rights reserved, please read http://roofit.sourceforge.net/license.txt\n",
      "\n"
     ]
    }
   ],
   "source": [
    "# suppress all messages except fatal ones\n",
    "ROOT.RooMsgService.instance().setGlobalKillBelow(ROOT.RooFit.WARNING)\n",
    "\n",
    "wspace = ROOT.RooWorkspace('Type1a')"
   ]
  },
  {
   "cell_type": "markdown",
   "metadata": {},
   "source": [
    "### Create parameters\n",
    "Create RooFit parameters using the workspace factory method. "
   ]
  },
  {
   "cell_type": "code",
   "execution_count": 9,
   "metadata": {},
   "outputs": [],
   "source": [
    "def createParameters(wspace, params,\n",
    "                     zmin=ZMIN, zmax=ZMAX, \n",
    "                     mumin=MUMIN, mumax=MUMAX):    \n",
    "    # measured redshift\n",
    "    wspace.factory('z[%f, %f]' % (zmin, zmax))\n",
    "\n",
    "    # measured distance modulus\n",
    "    wspace.factory('y[%f, %f]' % (mumin, mumax))\n",
    "\n",
    "    # distance modulus uncertainty\n",
    "    wspace.factory('dy[0, 2]')\n",
    "\n",
    "    wspace.defineSet('set_data', 'z,y,dy')\n",
    "    \n",
    "    # cosmological parameters\n",
    "    args = 'z'\n",
    "    for (free, name, guess, step, xmin, xmax) in params:\n",
    "        cmd = '%s[%f, %f, %f]' % (name, guess, xmin, xmax)\n",
    "        wspace.factory(cmd)\n",
    "        args += ',%s' % name\n",
    "        if not free:\n",
    "            wspace.var(name).setConstant()\n",
    "\n",
    "    wspace.defineSet('set_arguments', args)\n",
    "    \n",
    "    wspace.Print()\n",
    "    return args"
   ]
  },
  {
   "cell_type": "code",
   "execution_count": 10,
   "metadata": {},
   "outputs": [
    {
     "name": "stdout",
     "output_type": "stream",
     "text": [
      "arguments for distanceModulus: (z,OM,OL,H0,n)\n",
      "\n",
      "RooWorkspace(Type1a) Type1a contents\n",
      "\n",
      "variables\n",
      "---------\n",
      "(H0,OL,OM,dy,n,y,z)\n",
      "\n",
      "named sets\n",
      "----------\n",
      "set_arguments:(z,OM,OL,H0,n)\n",
      "set_data:(z,y,dy)\n",
      "\n"
     ]
    }
   ],
   "source": [
    "arguments = createParameters(wspace, params)\n",
    "print('arguments for distanceModulus: (%s)' % arguments)"
   ]
  },
  {
   "cell_type": "markdown",
   "metadata": {},
   "source": [
    "### Load Type 1a supernova data "
   ]
  },
  {
   "cell_type": "code",
   "execution_count": 11,
   "metadata": {},
   "outputs": [],
   "source": [
    "# ---------------------------------------------------------\n",
    "# read Type Ia data\n",
    "# format: name, z, x, dx\n",
    "# name:     name of supernova\n",
    "# z         measured redshift of supernova\n",
    "# x +/- dx: measured distance modulus\n",
    "# ---------------------------------------------------------\n",
    "def readData(wspace, filename):\n",
    "    import os\n",
    "    from array import array\n",
    "\n",
    "    if not os.path.exists(filename):\n",
    "        sys.exit(\"** can't open file %s\" % filename)\n",
    "        \n",
    "    # use (or perhaps abuse!) list comprehension.\n",
    "    # skip first 5 lines, split each line, and \n",
    "    # convert elements 1, 2, and 3 to floats\n",
    "    data= [ [float(x) for x in split_line[1:]] \n",
    "           for split_line in [str.split(line) \n",
    "                      for line in open(filename).readlines()[5:]] ]\n",
    "\n",
    "    # create a RooFit data set\n",
    "    set_data = wspace.set('set_data')\n",
    "    dataset = ROOT.RooDataSet('data', 'Type 1a data', set_data)\n",
    "\n",
    "    print(\"number of observations: %d\" % len(data))\n",
    "    print(\"%5s\\t%10s\\t%10s +/- %-10s\" % ('', 'z', 'y', 'dy'))\n",
    "    \n",
    "    # and fill it with the supernova data\n",
    "    # also copy data to arrays\n",
    "    z  = array('d')\n",
    "    y  = array('d')\n",
    "    dy = array('d')\n",
    "    for ii, d in enumerate(data):\n",
    "        z.append(d[0])\n",
    "        y.append(d[1])\n",
    "        dy.append(d[2])\n",
    "        \n",
    "        set_data['z'].setVal(z[-1])\n",
    "        set_data['y'].setVal(y[-1])\n",
    "        set_data['dy'].setVal(dy[-1])\n",
    "        dataset.add(set_data)\n",
    "\n",
    "        if ii % 100 == 0:\n",
    "            print(\"%5d\\t%10.3f\\t%10.2f +/- %-10.2f\"%\\\n",
    "                  (ii, z[-1], y[-1], dy[-1]))\n",
    "    \n",
    "    # import data set into workspace\n",
    "    getattr(wspace, 'import')(dataset)\n",
    "    \n",
    "    wspace.Print()\n",
    "    return (z, y, dy)"
   ]
  },
  {
   "cell_type": "code",
   "execution_count": 12,
   "metadata": {},
   "outputs": [
    {
     "name": "stdout",
     "output_type": "stream",
     "text": [
      "number of observations: 580\n",
      "     \t         z\t         y +/- dy        \n",
      "    0\t     0.028\t     35.35 +/- 0.22      \n",
      "  100\t     0.065\t     37.31 +/- 0.16      \n",
      "  200\t     0.194\t     39.96 +/- 0.13      \n",
      "  300\t     0.620\t     43.23 +/- 0.39      \n",
      "  400\t     0.710\t     43.02 +/- 0.18      \n",
      "  500\t     0.564\t     42.37 +/- 0.29      \n",
      "\n",
      "RooWorkspace(Type1a) Type1a contents\n",
      "\n",
      "variables\n",
      "---------\n",
      "(H0,OL,OM,dy,n,y,z)\n",
      "\n",
      "datasets\n",
      "--------\n",
      "RooDataSet::data(z,y,dy)\n",
      "\n",
      "named sets\n",
      "----------\n",
      "set_arguments:(z,OM,OL,H0,n)\n",
      "set_data:(z,y,dy)\n",
      "\n"
     ]
    }
   ],
   "source": [
    "data = readData(wspace, '../datasets/SCPUnion2.1_mu_vs_z.txt')"
   ]
  },
  {
   "cell_type": "markdown",
   "metadata": {},
   "source": [
    "### Plot Type1a Supernova Data"
   ]
  },
  {
   "cell_type": "code",
   "execution_count": 13,
   "metadata": {},
   "outputs": [],
   "source": [
    "# setup desired fonts\n",
    "FONTSIZE = 16\n",
    "font = {'family' : 'sans-serif',\n",
    "        'weight' : 'normal',\n",
    "        'size'   : FONTSIZE}\n",
    "mp.rc('font', **font)\n",
    "\n",
    "def plotData(data, filename, \n",
    "             results=None,\n",
    "             fgsize=(12, 8), \n",
    "             ftsize=18):\n",
    "    \n",
    "    # set up figure size, etc.\n",
    "    plt.figure(figsize=fgsize)\n",
    "    \n",
    "    # range of redshifts\n",
    "    zmin =  ZMIN\n",
    "    zmax =  ZMAX\n",
    "    \n",
    "    # range of distance moduli\n",
    "    ymin = MUMIN\n",
    "    ymax = MUMAX\n",
    "    \n",
    "    zstep= (zmax-zmin)/10\n",
    "    xp   = zmin + 4*zstep\n",
    "\n",
    "    ystep= (ymax-ymin)/15\n",
    "    yp   = ymax - 7*ystep\n",
    "    \n",
    "    # annotate plot\n",
    "    plt.text(xp, yp, \"The Union2.1 Compilation\"); yp -= ystep\n",
    "    plt.text(xp, yp, \"The Supernova Cosmology Project\"); yp -= ystep\n",
    "    plt.text(xp, yp, \"http://supernova.lbl.gov/Union/figures\");yp -= ystep\n",
    "    plt.text(xp, yp, \n",
    "             \"$\\mu(z) = 5 \\log_{10}d_{L}(z) + C, \\, d_{L} = (1+z)r$\",\n",
    "            fontsize=ftsize); yp -= ystep\n",
    "    \n",
    "    plt.xlim([zmin+0.01, zmax])\n",
    "    plt.ylim([ymin+0.01, ymax])\n",
    "    plt.xlabel('redshift ($z$)')\n",
    "    plt.ylabel('distance modulus ($y$)')\n",
    "    \n",
    "    z    = data[0] # redshifts\n",
    "    y    = data[1] # distance moduli\n",
    "    dy   = data[2] # distance moduli uncertainties assumed uncorrelated\n",
    "    \n",
    "    # plot points with error bars in y-direction\n",
    "    plt.errorbar(z, y, zorder=0, yerr=dy, fmt='o')\n",
    "    \n",
    "    # plot results of fit if given\n",
    "    if results:\n",
    "        name, title, p, npar = results\n",
    "        try:\n",
    "            (OM,_), (OL,_), (H0, dH0), (n, dn) = p\n",
    "        except:\n",
    "            (OM,_), (OL,_), (H0, dH0) = p\n",
    "            n = 0\n",
    "            \n",
    "        # compute chisq\n",
    "        ndata = len(z)\n",
    "        chi2 = 0.0\n",
    "        for i in range(ndata):    \n",
    "            mu = distanceModulus(z[i], OM, OL, H0, n)\n",
    "            c = (y[i] - mu)/dy[i]\n",
    "            chi2 += c*c  \n",
    "            \n",
    "        NDF = ndata - npar # number of degrees of freedom\n",
    "    \n",
    "        # compute curve\n",
    "        nz = 100\n",
    "        zstep = (zmax - zmin) / nz\n",
    "        zz = array('d')\n",
    "        mu = array('d')\n",
    "        for ii in range(nz):\n",
    "            zz.append( (ii+0.5)*zstep )\n",
    "            mu.append( distanceModulus(zz[-1], OM, OL, H0, n) )\n",
    "        \n",
    "        # plot curve\n",
    "        plt.plot(zz, mu, zorder=1, lw=2, color='red')\n",
    "        plt.text(xp, yp, \"\"); yp -= ystep * 0.5\n",
    "        plt.text(xp, yp, title); yp -= ystep\n",
    "        plt.text(xp, yp, \"number of SN1a: %5d\" % ndata); yp -= ystep\n",
    "        plt.text(xp, yp, \n",
    "                 \"$\\chi^{2} / NDF = %5.1f / %d = %5.2f$\" % \\\n",
    "                 (chi2, NDF, chi2/NDF),\n",
    "                fontsize=ftsize)  \n",
    "    \n",
    "    plt.savefig(filename)\n",
    "    plt.show()\n",
    "    return"
   ]
  },
  {
   "cell_type": "code",
   "execution_count": 14,
   "metadata": {},
   "outputs": [
    {
     "data": {
      "image/png": "[encoded data removed]",
      "text/plain": [
       "<Figure size 864x576 with 1 Axes>"
      ]
     },
     "metadata": {
      "needs_background": "light"
     },
     "output_type": "display_data"
    }
   ],
   "source": [
    "plotData(data, 'SCP_data.png' )"
   ]
  },
  {
   "cell_type": "markdown",
   "metadata": {},
   "source": [
    "### Create probability model\n",
    "We assume a Gaussian probability density function (pdf),\n",
    "\n",
    "$$f(y \\, | \\, z, \\sigma, \\theta) = \\textrm{Gauss}(y, \\mu(z, \\theta), \\sigma),$$\n",
    "\n",
    "where $\\theta$ are the parameters of the cosmological model. Neglecting correlations amongst the data, the likelihood of the data is\n",
    "\n",
    "$$p(y \\,| \\, z, \\sigma, \\theta) = \\prod_{i=1}^N \\, f(y_i \\, | \\, z_i, \\sigma_i, \\theta),$$\n",
    "\n",
    "with $N = 580$. For a Bayesian calculation, we would, in addition, need to specify a prior density $\\pi(\\theta)$ for the cosmological parameters. We assume that $z_i$ and $\\sigma_i$ are known with negligible uncertainty."
   ]
  },
  {
   "cell_type": "code",
   "execution_count": 15,
   "metadata": {},
   "outputs": [],
   "source": [
    "def createModel(wspace, arguments):\n",
    "    #--------------------------------------------------------------    \n",
    "    # create distance modulus expression\n",
    "    # \"mu\".\n",
    "    # note use of compiled C++ program\n",
    "    # for expressions that are too\n",
    "    # complicated to be written inline\n",
    "    #--------------------------------------------------------------\n",
    "    print(\"create model\")\n",
    "    set_arguments = wspace.set('set_arguments')\n",
    "    cmd = 'distanceModulus(%s)' % arguments\n",
    "    print(cmd)\n",
    "    \n",
    "    mu  = ROOT.RooFormulaVar('mu', '#mu', cmd, \n",
    "                             ROOT.RooArgList(set_arguments))\n",
    "    \n",
    "    # import the \"mu\" expression into workspace\n",
    "    getattr(wspace,'import')(mu)\n",
    "\n",
    "    # finally, create probability model\n",
    "    wspace.factory('Gaussian::model(y, mu, dy)')\n",
    "    wspace.Print()"
   ]
  },
  {
   "cell_type": "code",
   "execution_count": 16,
   "metadata": {},
   "outputs": [
    {
     "name": "stdout",
     "output_type": "stream",
     "text": [
      "create model\n",
      "distanceModulus(z,OM,OL,H0,n)\n",
      "\n",
      "RooWorkspace(Type1a) Type1a contents\n",
      "\n",
      "variables\n",
      "---------\n",
      "(H0,OL,OM,dy,n,y,z)\n",
      "\n",
      "p.d.f.s\n",
      "-------\n",
      "RooGaussian::model[ x=y mean=mu sigma=dy ] = 0.601823\n",
      "\n",
      "functions\n",
      "--------\n",
      "RooFormulaVar::mu[ actualVars=(z,OM,OL,H0,n) formula=\"distanceModulus(z,OM,OL,H0,n)\" ] = 42.7578\n",
      "\n",
      "datasets\n",
      "--------\n",
      "RooDataSet::data(z,y,dy)\n",
      "\n",
      "named sets\n",
      "----------\n",
      "set_arguments:(z,OM,OL,H0,n)\n",
      "set_data:(z,y,dy)\n",
      "\n"
     ]
    }
   ],
   "source": [
    "createModel(wspace, arguments)"
   ]
  },
  {
   "cell_type": "markdown",
   "metadata": {},
   "source": [
    "### Save workspace to a ROOT file "
   ]
  },
  {
   "cell_type": "code",
   "execution_count": 17,
   "metadata": {},
   "outputs": [],
   "source": [
    "filename = '%s_workspace.root' % MODEL\n",
    "if wspace.writeToFile(filename) != 0:\n",
    "    print(\"** problem saveing workspace to ROOT file %s\" % filename)"
   ]
  },
  {
   "cell_type": "markdown",
   "metadata": {},
   "source": [
    "## 2: Perform Fit\n",
    "\n",
    "Ordinarily, this part would be performed in a separate session, which would require loading the workspace back into memory as follows:\n",
    "\n",
    "```python\n",
    "filename = '%s_workspace.root' % MODEL\n",
    "rfile = TFile(filename)\n",
    "if not rfile.IsOpen():\n",
    "    sys.exit(\"** can't open file %s\" % filename)\n",
    "\n",
    "name = 'Type1a'\n",
    "wspace = rfile.Get(name)\n",
    "if wspace == None:\n",
    "    sys.exit(\"** can't get workspace %s from file %s\"%(name, \n",
    "                                                       filename))\n",
    "```\n",
    "\n",
    "However, we shall just continue with the workspace already in memory."
   ]
  },
  {
   "cell_type": "code",
   "execution_count": 18,
   "metadata": {},
   "outputs": [],
   "source": [
    "def performFit(wspace, params, printLevel=-1):\n",
    "    sep = \"-\"*72\n",
    "    print(sep)\n",
    "    print(\"performing fit...\")\n",
    "    swatch = ROOT.TStopwatch()\n",
    "    swatch.Start()\n",
    "\n",
    "    # save results of fit to results\n",
    "    ROOT.RooMsgService.instance().setGlobalKillBelow(ROOT.RooFit.FATAL)\n",
    "    \n",
    "    r = wspace.pdf('model').fitTo(wspace.data('data'),\n",
    "                                  ROOT.RooFit.Save(),\n",
    "                                  ROOT.RooFit.PrintLevel(printLevel))\n",
    "    print(\"real time: %10.3f s\" % swatch.RealTime())\n",
    "    print(sep)\n",
    "    r.Print()\n",
    "    print(sep)\n",
    "\n",
    "    results = []\n",
    "    npar = 0\n",
    "    for p in params:\n",
    "        free, name = p[:2]\n",
    "        results.append((wspace.var(name).getVal(), \n",
    "                        wspace.var(name).getError()))\n",
    "        if free: npar += 1\n",
    "    return (results, npar)"
   ]
  },
  {
   "cell_type": "code",
   "execution_count": 19,
   "metadata": {},
   "outputs": [
    {
     "name": "stdout",
     "output_type": "stream",
     "text": [
      "------------------------------------------------------------------------\n",
      "performing fit...\n",
      "real time:      5.064 s\n",
      "------------------------------------------------------------------------\n",
      "------------------------------------------------------------------------\n",
      "\n",
      "  RooFitResult: minimized FCN value: 1484.31, estimated distance to minimum: 8.83975e-10\n",
      "                covariance matrix quality: Full, accurate covariance matrix\n",
      "                Status : MINIMIZE=0 HESSE=0 \n",
      "\n",
      "    Floating Parameter    FinalValue +/-  Error   \n",
      "  --------------------  --------------------------\n",
      "                    H0    7.0427e+01 +/-  4.53e-01\n",
      "                     n    2.8229e+00 +/-  1.87e-01\n",
      "\n"
     ]
    }
   ],
   "source": [
    "results, npar = performFit(wspace, params)"
   ]
  },
  {
   "cell_type": "markdown",
   "metadata": {},
   "source": [
    "## Plot Results"
   ]
  },
  {
   "cell_type": "code",
   "execution_count": 20,
   "metadata": {},
   "outputs": [
    {
     "data": {
      "image/png": "[encoded data removed]",
      "text/plain": [
       "<Figure size 864x576 with 1 Axes>"
      ]
     },
     "metadata": {
      "needs_background": "light"
     },
     "output_type": "display_data"
    }
   ],
   "source": [
    "plotData(data, 'SCP_fit_%s.png' % MODEL, \n",
    "         [MODEL, title, results, npar])"
   ]
  },
  {
   "cell_type": "code",
   "execution_count": null,
   "metadata": {
    "collapsed": true
   },
   "outputs": [],
   "source": []
  }
 ],
 "metadata": {
  "kernelspec": {
   "display_name": "Python 3",
   "language": "python",
   "name": "python3"
  },
  "language_info": {
   "codemirror_mode": {
    "name": "ipython",
    "version": 3
   },
   "file_extension": ".py",
   "mimetype": "text/x-python",
   "name": "python",
   "nbconvert_exporter": "python",
   "pygments_lexer": "ipython3",
   "version": "3.6.7"
  }
 },
 "nbformat": 4,
 "nbformat_minor": 1
}
