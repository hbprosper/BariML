{
 "cells": [
  {
   "cell_type": "markdown",
   "metadata": {},
   "source": [
    "# Save MNIST data to a pickle files\n",
    " >__Created__: October 2019\n",
    " \n",
    "\n",
    "Normalize MNIST data and save in convenient form. Data in csv format obtained from\n",
    "\n",
    "https://www.kaggle.com/oddrationale/mnist-in-csv\n"
   ]
  },
  {
   "cell_type": "code",
   "execution_count": 1,
   "metadata": {},
   "outputs": [],
   "source": [
    "import os, sys\n",
    "import pandas as pd\n",
    "import numpy  as np\n",
    "import joblib as jb"
   ]
  },
  {
   "cell_type": "markdown",
   "metadata": {},
   "source": [
    "### Load Images"
   ]
  },
  {
   "cell_type": "code",
   "execution_count": 2,
   "metadata": {},
   "outputs": [],
   "source": [
    "def loadImages(filename):\n",
    "    # read data into a dataframe (with 785 columns)\n",
    "    df = pd.read_csv(filename)\n",
    "    yy = []\n",
    "    xx = []\n",
    "    for m in range(len(df)):\n",
    "        T = df.iloc[m]   # pick row \"m\"\n",
    "        # T[0]:  target (0,..9)\n",
    "        # T[1:]: 784 pixel values\n",
    "        y = T[0]\n",
    "        x = T[1:].astype('float32')\n",
    "        yy.append(y)\n",
    "        xx.append(x)\n",
    "    # stack data vertically and normalize pixel \n",
    "    # values to unit interval\n",
    "    x = np.stack(xx) / 255.0\n",
    "    y = np.stack(yy)\n",
    "    return (x, y)"
   ]
  },
  {
   "cell_type": "markdown",
   "metadata": {},
   "source": [
    "### Decompress data, normalize, and save\n",
    "The decompression type is inferred from the file extension.\n",
    "\n",
    "This takes ab out 30 to 60 seconds to complete..."
   ]
  },
  {
   "cell_type": "code",
   "execution_count": 3,
   "metadata": {},
   "outputs": [
    {
     "name": "stdout",
     "output_type": "stream",
     "text": [
      "done!\n"
     ]
    }
   ],
   "source": [
    "train_x, train_y = loadImages('mnist_train.csv.gz')\n",
    "jb.dump([train_x, train_y], 'mnist_train.pkl')\n",
    "print('done!')"
   ]
  },
  {
   "cell_type": "code",
   "execution_count": 4,
   "metadata": {},
   "outputs": [
    {
     "name": "stdout",
     "output_type": "stream",
     "text": [
      "done!\n"
     ]
    }
   ],
   "source": [
    "test_x, test_y = loadImages('mnist_test.csv.gz')\n",
    "jb.dump([test_x, test_y], 'mnist_test.pkl')\n",
    "print('done!')"
   ]
  },
  {
   "cell_type": "code",
   "execution_count": null,
   "metadata": {},
   "outputs": [],
   "source": []
  }
 ],
 "metadata": {
  "kernelspec": {
   "display_name": "Python 3",
   "language": "python",
   "name": "python3"
  },
  "language_info": {
   "codemirror_mode": {
    "name": "ipython",
    "version": 3
   },
   "file_extension": ".py",
   "mimetype": "text/x-python",
   "name": "python",
   "nbconvert_exporter": "python",
   "pygments_lexer": "ipython3",
   "version": "3.6.7"
  }
 },
 "nbformat": 4,
 "nbformat_minor": 1
}
