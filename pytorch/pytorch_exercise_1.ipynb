{
 "cells": [
  {
   "cell_type": "markdown",
   "metadata": {},
   "source": [
    "# PyTorch - Classification - 1\n",
    " >__Created__: October 2019, Bari, Italy\n",
    " \n",
    "\n",
    "## Introduction\n",
    "We consider the benchmark task of classifying the $28 \\times 28 = 784$ gray scale pixel images of handwritten digits in the [MNIST](http://yann.lecun.com/exdb/mnist) data set using __supervised learning__. In supervised learning a model is trained (that is, fitted) to data consisting of unambiguously labeled __feature vectors__, here images. For classification, the label is the class to which a vector belongs, while for regression the labels are the values associated with the vectors. In the MNIST data set there are $K = 10$ classes, labeled by the digits 0 to 9. The data contains $T = 60,000$ images for training and 10,000 images for testing. Following good practice, we split the training data into a set for training and another for validating the training. The test data are not used in the training.\n",
    "\n",
    "The value of each pixel in the MNIST data set lies in the discrete set $[0, 1, \\cdots, 255]$. Again, following good practice, we rescale each datum so that it lies in the unit interval. In this exercise, the data lie in the (rational) set $D = [0, 1/255, \\cdots, 1]$. The MNIST training data may be viewed as a sample from an unknown probability distribution $p(t, x)$ defined on the finite discrete space $[0,\\cdots,9] \\times D^{784}$, where the __target__, $t$, is the class label associated with image $x$. ($p(t, x)$ is clearly an abstraction since it is the distribution of an *infinite* MNIST data set that exists only in the same sense as the set of real numbers.) An image is then a point $x \\in D^{784}$. If we associate each class with a different color, the training data form a swarm of colored points where points of a given color tend to \"flock\" together in the space $D^{784}$.\n",
    "\n",
    "In this exercise, a fully connected shallow neural network (SNN) is used to classify the MNIST digits. The training is done with __batches__ of images represented by a 2-index tensor $\\mathbf{x}_{nj}$ of __shape__ $(N, H \\times W)$, i.e., a matrix. The first index (along dimension dim = 0) labels the ordinal value $n$ of an image in a batch of $N$ images, while the second index (along dim = 1) labels the pixels of a *flattened* image of height and width $H$ and $W$, respectively.  \n",
    "\n",
    "### Model\n",
    "Machine learning models often have an aura of mystery about them. But, a sensible perspective can be maintained by remembering that regardless of how their form may have been motivated, these models are, ultimately, just exceedingly complicated non-linear functions. \n",
    "\n",
    "Another point should be noted before we delve into details. Much has been made of the sometimes spectacular failure in the application of machine learning to real-world problems. For example, suppose that a single pixel in an image is changed, say from the value 197/255 to the value 0. This causes the point representing the image in the space $D^{784}$ to suffer a displacement in that space. To the human brain, a single pixel change in a $28 \\times 28$ image is a negligible distortion that does not impair its ability to classify the image, either because the distortion goes unnoticed or it is ignored. But, to a machine learned classifier, a single pixel change could result in a large displacement in the abstract space of images, thereby making the image an outlier whose position is no longer representative of the distribution of *any* of the classes defined by the probability $p(t, x)$. The point is that the classifier depends on the probability $p(t, x)$, therefore, if the latter fails to capture the kinds of outliers one expects in real-world data, it ought not to surprise that the classifier may fail to classify an outlier correctly. \n",
    "\n",
    "One might think that the solution is to train with data that contains outliers. However, it may not be feasible to build a model that captures every sort of potential outlier. Moreover, if outliers in the training data are relatively rare, the training procedure may simply ignore them. A more practical approach might be to devise a way to recognize when an image is an outlier, detect which subsets of pixels are responsible for this and assign to the offending pixels values that are representative of their neighborhood. Having tamed the image in this way, it is then presented to the classifier.\n",
    "\n",
    "In this exercise, we use the following model \n",
    "\n",
    "$$\\mathbf{y} = \\mbox{softmax}(\\,\\mathbf{b}_1 + \\mathbf{w}_1 \\, \\mbox{relu}(\\mathbf{b}_0 + \\mathbf{w}_0 \\, \\mathbf{x}) \\, ),$$\n",
    "\n",
    "where $\\mathbf{b}$ and $\\mathbf{w}$, the biases and weights, are the parameters of the model and $\\mbox{relu}(x)$, which is a function applied to every element $x$ of its tensor argument (i.e., applied element-wise), is defined by\n",
    "\n",
    "\\begin{align*}\n",
    "\\mbox{relu}(x) & = \\begin{cases}\n",
    "    x, & \\text{if } x \\gt 0\\\\\n",
    "    0              & \\text{otherwise}.\n",
    "\\end{cases}\n",
    "\\end{align*}\n",
    "\n",
    "The parameters with suffix 0 pertain to the input layer, while those with suffix 1 pertain to the so-called __hidden__ layer.\n",
    "Since $\\mathbf{y}$ models class probabilities that sum to unity, it makes sense to map each output of the hidden layer to the unit interval by applying, for example, the softmax function for $K$ output classes, \n",
    "\n",
    "\\begin{align*}\n",
    "(\\mbox{softmax}(x))_k & = \\frac{\\exp(x_{(k)})}{\\sum_{j=0}^{K-1} \\exp(x_{(j)})} ,\n",
    "\\end{align*}\n",
    "\n",
    "where $x_{(k)}$ denotes the $k^\\mbox{th}$ output of the hidden layer. \n",
    "\n",
    "### Loss function\n",
    "Typically, a machine learning model is fitted to the training data by minimizing a suitably defined function, which in the statistics literature is often referred to as the __empirical risk__. (Fitting models to data is called learning by machine learning enthusiasts.) The empirical risk is a Monte Carlo approximation of the __risk functional__, defined by \n",
    "\n",
    "\\begin{align*}\n",
    "    R[f] &= \\int L(t, \\, f(x, \\theta)) \\, \n",
    "    p(t, \\, x) \\, dt \\, dx,\n",
    "\\end{align*}\n",
    "\n",
    "where $L(t, \\, f)$ is called the __loss function__ and measures how much one loses if the output of the parameterized function $f(x, \\theta)$ differs from the __target__ $t$. $\\color{blue}{\\rm Warning}$: In the machine learning world, the empirical risk is typicaly referred to as the loss function, when what is really meant is the average loss function. \n",
    "\n",
    "__Important Note__: In order for the risk functional $R[f]$ to reach its minimum, defined by variations of $f$ that yield the condition $\\delta R = 0$ for all $x$, the function $f$ must be sufficiently flexible. If the latter condition is satisfied, then the mathematical quantity approximated by $f$ depends solely on the form of the loss function $L(t, \\, f)$ and the probability distribution $p(t, \\, x)$ of the training data. In particular, it does not depend on\n",
    "    the details of the functon $f$ apart from its presumed flexibility. Of course, in practice, we do not minimize $R[f]$, but rather the empirical risk, which approximates it. Nevertheless, to the degree that a very large data set approximates an infinite one and to the degree that our minimizer is able to find a good approximation to the minimum, this bit of reasoning suggests that it is as least as important to think about the form of the loss function $L(t, \\, f)$ as it is to think about the form of the model. If we have two models of equal functional flexibility then, *a priori*, for the same loss function the models will approximate the same quantity. \n",
    "\n",
    "In order to motivate our choice of loss function, we start with the __Kullback-Leibler__ (KL) divergence\n",
    "\n",
    "\\begin{align*}\n",
    "    D(p || q) & = \\sum_i p_i \\log(p_i / q_i),\n",
    "\\end{align*}\n",
    "\n",
    "which is a *global* measure of the dissimilarity between a probability distribution $p$ and a reference distribution $q$. The KL divergence is a global measure in that it depends on the entire probability distributions $p$ and $q$. In particular, the measure does not supply information about where $p$ and $q$ are well matched and where they are not. \n",
    "\n",
    "The KL divergence is zero if and only if the two distributions are identical. Typically, we have a model for $q$, but $p$ is usually unknown, which makes it difficult to approximate $D(p || q)$. However, the KL divergence can be written as,\n",
    "\n",
    "\\begin{align*}\n",
    "  D(p || q) & = \\sum_i p_i \\log(p_i / q_i),\\\\\n",
    "            & = -\\sum_i p_i \\log q_i - \\left(-\\sum_i p_i \\log p_i\\right),\\\\\n",
    "            & = H(p, q) - H(p).\n",
    "\\end{align*}\n",
    "\n",
    "The quantity $H(p) = -\\sum_i p_i \\log p_i$ is called the __entropy__, while $H(p, q)$ is called the __cross entropy__. Like the KL divergence, the cross entropy is minimized when $q = p$, whereupon it equals the entropy of the probability distribution $p$. The practical advantage of the cross entropy over the KL divergence is that for training data distributed according to $p$, we can use the following Monte Carlo approximation of the cross entropy,\n",
    "\n",
    "\\begin{align*}\n",
    "  H(p, q) & = -\\sum_i p_i \\log q_i,\\\\\n",
    "            & \\approx -\\frac{1}{T}\\sum_{i=0}^{T-1} \\log q_i,\n",
    "\\end{align*}\n",
    "\n",
    "where $T$ is the number of feature vectors, here images, in the training set. In this exercise, we shall use cross entropy as the loss function.\n",
    "The outputs of the model are the conditional class probabilities\n",
    "\n",
    "\\begin{align*}\n",
    "    P(k \\, | \\, \\mathbf{x} ) & = \\frac{P(\\mathbf{x} \\, | \\, k) \\, \\pi(k)}{\\sum_{j=0}^K P(\\mathbf{x} \\, | \\, j) \\, \\pi(j)},\n",
    "\\end{align*}\n",
    "\n",
    "where $\\pi(k)$ is the prior probability of class $k$ and $P(\\mathbf{x} \\, | \\, k)$ is the probability of image $\\mathbf{x}$ *given* that it is of class $k$. ($P(\\mathbf{x} \\, | \\, k)$ is often referred to as the __likelihood__.) To compute the loss function, we set $q_i = P(k_i \\, | \\, \\mathbf{x}_i )$, where $k_i$ is the true class index of image $x_i$. In other words, we take $q_i$ to be the estimated conditional probability that image $x_i$ is of class $k_i$ given that it is known to be of that class."
   ]
  },
  {
   "cell_type": "code",
   "execution_count": 2,
   "metadata": {},
   "outputs": [],
   "source": [
    "import os, sys\n",
    "\n",
    "# the standard module for tabular data\n",
    "import pandas as pd\n",
    "\n",
    "# the standard module for array manipulation\n",
    "import numpy as np\n",
    "\n",
    "# the standard modules for high-quality plots\n",
    "import matplotlib as mp\n",
    "import matplotlib.pyplot as plt\n",
    "import imageio as im\n",
    "\n",
    "#  a function to save results\n",
    "import joblib as jb\n",
    "\n",
    "# pytorch\n",
    "import torch\n",
    "\n",
    "# to reload modules\n",
    "import importlib\n",
    "\n",
    "%matplotlib inline"
   ]
  },
  {
   "cell_type": "code",
   "execution_count": 3,
   "metadata": {},
   "outputs": [],
   "source": [
    "# update fonts\n",
    "FONTSIZE = 14\n",
    "font = {'family' : 'serif',\n",
    "        'weight' : 'normal',\n",
    "        'size'   : FONTSIZE}\n",
    "mp.rc('font', **font)\n",
    "\n",
    "# set usetex = False if LaTex is not \n",
    "# available on your system or if the \n",
    "# rendering is too slow\n",
    "mp.rc('text', usetex=True)\n",
    "\n",
    "# set a seed to ensure reproducibility\n",
    "seed = 128\n",
    "rnd  = np.random.RandomState(seed)"
   ]
  },
  {
   "cell_type": "markdown",
   "metadata": {},
   "source": [
    "### Load Images\n",
    "If the files are do not exist, go to the __datasets__ folder and run the notebook __prepare_mnist_data.ipynb__ to create them."
   ]
  },
  {
   "cell_type": "code",
   "execution_count": 4,
   "metadata": {},
   "outputs": [],
   "source": [
    "train_x, train_y = jb.load('../datasets/mnist_train.pkl.gz')\n",
    "test_x,  test_y  = jb.load('../datasets/mnist_test.pkl.gz')"
   ]
  },
  {
   "cell_type": "markdown",
   "metadata": {},
   "source": [
    "### Plot first few  images\n",
    "Use imshow(..) and show() to display the image."
   ]
  },
  {
   "cell_type": "code",
   "execution_count": 5,
   "metadata": {},
   "outputs": [],
   "source": [
    "def plotImages(x, n_rows=2, n_cols=5, f_size=(10, 4)):\n",
    "    f, ax = plt.subplots(nrows=n_rows, \n",
    "                         ncols=n_cols, \n",
    "                         figsize=f_size)\n",
    "    # note use of flatten() to convert a matrix of shape (nrows, ncols)\n",
    "    # to a 1-d array.\n",
    "    for image, ax in zip(x, ax.flatten()):\n",
    "        ax.imshow(image.reshape(28, 28), cmap='gray')\n",
    "        ax.axis('off')\n",
    "    plt.show()"
   ]
  },
  {
   "cell_type": "code",
   "execution_count": 6,
   "metadata": {},
   "outputs": [
    {
     "data": {
      "image/png": "[encoded data removed]",
      "text/plain": [
       "<Figure size 720x288 with 10 Axes>"
      ]
     },
     "metadata": {
      "needs_background": "light"
     },
     "output_type": "display_data"
    },
    {
     "data": {
      "text/plain": [
       "array([5, 0, 4, 1, 9, 2, 1, 3, 1, 4])"
      ]
     },
     "execution_count": 6,
     "metadata": {},
     "output_type": "execute_result"
    }
   ],
   "source": [
    "plotImages(train_x)\n",
    "train_y[:10]"
   ]
  },
  {
   "cell_type": "markdown",
   "metadata": {},
   "source": [
    "### Prepare training and validation sets"
   ]
  },
  {
   "cell_type": "code",
   "execution_count": 7,
   "metadata": {},
   "outputs": [
    {
     "name": "stdout",
     "output_type": "stream",
     "text": [
      "number of images for training:        42000\n",
      "number of images for validation:      18000\n",
      "number of images for testing:         10000\n"
     ]
    }
   ],
   "source": [
    "n_iter   = 10000       # number of iterations\n",
    "n_batch  = 128         # N = n_batch\n",
    "learning_rate  = 1.e-3\n",
    "train_fraction = 0.7   # fraction of data used for training\n",
    "\n",
    "# split data into training and validation set\n",
    "M = int(train_fraction*len(train_x))\n",
    "train_x, val_x = train_x[:M], train_x[M:]\n",
    "train_y, val_y = train_y[:M], train_y[M:]\n",
    "\n",
    "n_train = len(train_x)\n",
    "n_valid = len(val_x)\n",
    "n_test  = len(test_x)\n",
    "\n",
    "print(\"number of images for training:   %10d\" % n_train)\n",
    "print(\"number of images for validation: %10d\" % n_valid)\n",
    "print(\"number of images for testing:    %10d\" % n_test)"
   ]
  },
  {
   "cell_type": "markdown",
   "metadata": {},
   "source": [
    "### Define model\n",
    "\n",
    "Use some magic to write the following cell to the file __SNN.py__, which can then be imported into another notebook. But, it seems we need to import the saved\n",
    "class back into this notebook in order to use it."
   ]
  },
  {
   "cell_type": "code",
   "execution_count": 8,
   "metadata": {},
   "outputs": [
    {
     "name": "stdout",
     "output_type": "stream",
     "text": [
      "Writing SNN.py\n"
     ]
    }
   ],
   "source": [
    "%%writefile SNN.py\n",
    "# A fully connected shallow neural network\n",
    "import torch.nn as nn\n",
    "import torch.nn.functional as F\n",
    "\n",
    "class Model(nn.Module):\n",
    "    \n",
    "    def __init__(self):\n",
    "        \"\"\"\n",
    "    A fully-connected shallow neural network, that is, one with a\n",
    "    single hidden layer.\n",
    "        \"\"\" \n",
    "        # call constructor of base (or super, or parent) class\n",
    "        super(Model, self).__init__()\n",
    "        \n",
    "        # INTRODUCTION\n",
    "        # linear model:   a model of the form y = b + w*x\n",
    "        # feature:        an attribute, e.g., a pixel value\n",
    "        # feature vector: an ordered list of features, e.g., an image\n",
    "        #\n",
    "        # The function nn.Linear(inputs, outputs)\n",
    "        # computes\n",
    "        #\n",
    "        #   y = b + w*x\n",
    "        #\n",
    "        # where x is a tensor of shape (number, inputs), w a tensor of\n",
    "        # shape (outputs, inputs), b a tensor of shape (outputs) and\n",
    "        # y is a tensor of shape (number, outputs).\n",
    "        #   number:  the batch size, that is, the number of feature \n",
    "        #            vectors used to compute the average loss, which, in\n",
    "        #            turn, is used to compute the local gradient in \n",
    "        #            a minimization step.\n",
    "        #   inputs:  the number of features/feature vector\n",
    "        #   outputs: the number of outputs of the linear model.\n",
    "        #\n",
    "        # DETAILS\n",
    "        # The first linear model has 784 inputs and 2500 outputs, \n",
    "        # followed by another linear model with 2500 inputs and \n",
    "        # 10 outputs. \n",
    "        #\n",
    "        # There are 784 * 2500 weights + 2500 biases in the first linear\n",
    "        # model. The linear model (the second layer) has 2500 * 10 \n",
    "        # weights + 10 biases. Therefore, the total number of parameters \n",
    "        # in this network is \n",
    "        # 784 * 2500 + 2500 + 2500 * 10 + 10 = 1,987,510, that is, about\n",
    "        # 2 million!\n",
    "        self.layer0 = nn.Linear(784, 2500)\n",
    "        self.layer1 = nn.Linear(2500,  10) # the \"hidden\" layer.\n",
    "        \n",
    "    def __str__(self):\n",
    "        s = ''\n",
    "        for layer in [self.layer0, \n",
    "                      self.layer1]:\n",
    "            s += '%s\\n' % layer\n",
    "        return s\n",
    "    \n",
    "    # this required method computes the output of the network\n",
    "    def forward(self, x):\n",
    "        \"\"\"\n",
    "        x:  input data (of type Variable) \n",
    "        \"\"\"\n",
    "        # compute y = relu(b0 + w0*x) element-wise\n",
    "        y = F.relu(self.layer0(x))\n",
    "        \n",
    "        # during training, randomly dropout, that is, set to zero, \n",
    "        # half of the elements in the input tensor y. dropout has\n",
    "        # been shown to improve the training and yield better results.\n",
    "        y = F.dropout(y, p=0.5, training=self.training)\n",
    "               \n",
    "        # estimated class probabilities for ith feature vector, here an\n",
    "        # image,\n",
    "        #   q_i(k) = exp(y_i(k) / sum_j exp(y_i(j)), j = 0,..., K-1,\n",
    "        # where K=10 is the number of classes and y_i(k) is the output \n",
    "        # for the ith feature vector for class index k. \n",
    "        # apply the softmax function horizontally, i.e., along \n",
    "        # the class axis (dim=1)\n",
    "        # (dim=0 is vertical, that is, along the batch axis.)\n",
    " \n",
    "        y = F.softmax(self.layer1(y), dim=1)\n",
    "\n",
    "        return y"
   ]
  },
  {
   "cell_type": "markdown",
   "metadata": {},
   "source": [
    "### Create an instance of the model\n",
    "Note the import of the class that we've just saved."
   ]
  },
  {
   "cell_type": "code",
   "execution_count": 9,
   "metadata": {},
   "outputs": [
    {
     "data": {
      "text/plain": [
       "Model(\n",
       "  (layer0): Linear(in_features=784, out_features=2500, bias=True)\n",
       "  (layer1): Linear(in_features=2500, out_features=10, bias=True)\n",
       ")"
      ]
     },
     "execution_count": 9,
     "metadata": {},
     "output_type": "execute_result"
    }
   ],
   "source": [
    "import SNN\n",
    "importlib.reload(SNN)\n",
    "model = SNN.Model()\n",
    "model"
   ]
  },
  {
   "cell_type": "markdown",
   "metadata": {},
   "source": [
    "### Define average loss (or empirical risk) function\n",
    "Here we use the cross-entropy,\n",
    "\\begin{align*}\n",
    "  H(p, q) & = -\\sum_i p_i \\log q_i,\\\\\n",
    "            & \\approx -\\frac{1}{T}\\sum_{i=0}^{T-1} \\log q_i.\n",
    "\\end{align*}\n",
    "\n",
    "In principle, we want $T \\rightarrow \\infty$, but, in practice, $T = batch\\_size$. This is done to produce a noisy approximation of\n",
    "the cross-entropy and therefore a noisy approximation of the local\n",
    "gradient. The stochasticity introduced increases the probability that the minimizer won't get stuck in a local minimum that is a poor approximation to the global minimum."
   ]
  },
  {
   "cell_type": "code",
   "execution_count": 10,
   "metadata": {},
   "outputs": [],
   "source": [
    "class AverageLoss():\n",
    "    def __init__(self):\n",
    "        pass\n",
    "    \n",
    "    def __call__(self, outputs, targets):\n",
    "        \"\"\"\n",
    "    Compute the cross entropy defined by\n",
    "        H(p, q) = -sum_i p_i log(q_i),\n",
    "                = -(1 / T) sum_i=0^T-1 log(q_i)\n",
    " \n",
    "    which is minimized when the estimated probability q_i for the\n",
    "    ith feature vector matches the true probability p_i.\n",
    " \n",
    "    outputs: estimated class probabilities\n",
    "             shape: (batch_size, number_classes) \n",
    "    targets: class indices [0,...,K-1], shape: (batch_size, ) \n",
    "        \"\"\"\n",
    "        # For each feature vector i, pick the estimated probability q_i\n",
    "        # that corresponds to its true class index. The true class \n",
    "        # indices for the feature vectors (the images) are given in \n",
    "        # targets.\n",
    "        #\n",
    "        # Note the very powerful numpy-like syntax for accessing \n",
    "        # specific elements of an nd-array: outputs[list1, list2].\n",
    "        # basically, for each row i we pick the value in the column \n",
    "        # number given in target[i]. \n",
    "        # Note also: range(batch_size) is [0,...batch_size-1].\n",
    "        batch_size = len(outputs)\n",
    "        outputs = outputs[range(batch_size), targets]\n",
    "        \n",
    "        # compute H(p, q) = -sum_i p_i log(q_i)\n",
    "        return -torch.sum(torch.log(outputs)) / batch_size "
   ]
  },
  {
   "cell_type": "code",
   "execution_count": 11,
   "metadata": {},
   "outputs": [],
   "source": [
    "avloss = AverageLoss()"
   ]
  },
  {
   "cell_type": "markdown",
   "metadata": {},
   "source": [
    "### Get batch\n",
    "Get a random sample from the training set of size $n\\_batch$"
   ]
  },
  {
   "cell_type": "code",
   "execution_count": 12,
   "metadata": {},
   "outputs": [],
   "source": [
    "def randomBatch(train_x, train_y, batch_size):\n",
    "    # the numpy function choice(length, number)\n",
    "    # selects at random \"number\" integers from the range [0, length-1]\n",
    "    rows    = rnd.choice(len(train_x), batch_size)\n",
    "    batch_x = train_x[rows]\n",
    "    batch_y = train_y[rows]\n",
    "    return (batch_x, batch_y)"
   ]
  },
  {
   "cell_type": "markdown",
   "metadata": {},
   "source": [
    "### Accuracy\n",
    "Compute fraction of correct predictions."
   ]
  },
  {
   "cell_type": "code",
   "execution_count": 13,
   "metadata": {},
   "outputs": [],
   "source": [
    "def accuracy(outputs, targets):\n",
    "    # We take the ordinal value of the highest of the 10 outputs as the\n",
    "    # predicted class index. Use the numpy function argmax to do this.\n",
    "    #\n",
    "    # argmax scans the numpy array along the specified axis, here the \n",
    "    # horizontal axis (axis=1), which is in the class direction, and \n",
    "    # returns the ordinal value of the maximum value along that axis, \n",
    "    # which will be the predicted class index.\n",
    "    #\n",
    "    # Note the required use of detach().numpy() to return the tensor outputs \n",
    "    # as a numpy array, which is the argument type expected by argmax.\n",
    "    outputs = np.argmax(outputs.detach().numpy(), axis=1)\n",
    "    \n",
    "    # Count how many times the predicted class index matches the true \n",
    "    # class index of the image and convert to a fraction.\n",
    "    return float(np.sum(outputs==targets.detach().numpy())) / len(targets)"
   ]
  },
  {
   "cell_type": "markdown",
   "metadata": {},
   "source": [
    "### Trainer"
   ]
  },
  {
   "cell_type": "code",
   "execution_count": 14,
   "metadata": {},
   "outputs": [],
   "source": [
    "def train(model, optimizer, avloss, train_x, train_y, batch_size):\n",
    "    # set mode to training so that training specific operations such \n",
    "    # as dropout are enabled.\n",
    "    model.train()\n",
    "    \n",
    "    # Get a random sample (a batch) of images (as numpy arrays)\n",
    "    batch_x, batch_y = randomBatch(train_x, train_y, batch_size)\n",
    "        \n",
    "    # Convert the numpy arrays batch_x and batch_y, the images and \n",
    "    # class indices, respectively, to tensor types. The later is the \n",
    "    # expected type into models and the loss functions (really \n",
    "    # average loss or empirical risk functions).\n",
    "    #\n",
    "    # The PyTorch tensor type is the magic that permits automatic \n",
    "    # differentiation with respect to parameters. However, we do not\n",
    "    # need this feature for the images and the class indices, so we\n",
    "    # disable it.\n",
    "    with torch.no_grad(): # no need to compute gradients wrt. x and y\n",
    "        x = torch.from_numpy(batch_x)\n",
    "        y = torch.from_numpy(batch_y)      \n",
    "\n",
    "    # compute the output of the model for the batch of images x\n",
    "    outputs = model(x)\n",
    "    \n",
    "    # compute a noisy approximation to the average loss\n",
    "    loss    = avloss(outputs, y)\n",
    "    \n",
    "    # use automatic differentiation to compute a noisy approximation\n",
    "    # of local gradient\n",
    "    optimizer.zero_grad()  # clear previous gradients\n",
    "    loss.backward()        # compute gradients\n",
    "    \n",
    "    # Finally, advance one step in the direction of steepest descent,\n",
    "    # using the noisy local gradient. Consider a 2-million dimensional \n",
    "    # hyper-surface defined by the average loss in the limit of an \n",
    "    # infinite training sample. In principle, that is the hyper-surface \n",
    "    # we really wish we could explore and whose global minimum we would\n",
    "    # like to find. But, since this is impossible, we instead construct\n",
    "    # at any given point on this hyper-surface a noisy approximation \n",
    "    # to it using the loss function averaged over a small batch of images. \n",
    "    # Then, we approximate the local gradient using the noisy local\n",
    "    # approximation to the hyper-surface. Necessarily, the gradient \n",
    "    # will be a noisy approximation to the true local gradient. \n",
    "    #\n",
    "    # This may seem like an odd thing to do. Surely, it is better to \n",
    "    # compute the local gradient using as large a training sample as \n",
    "    # possible in order to provide a more accurate approximation to \n",
    "    # the hyper-surface at any given point? However, that is actually \n",
    "    # a bad idea! Firstly, using the full training sample to define \n",
    "    # the average loss would drastically slow down the minimization. \n",
    "    # Secondly, the hyper-surface is likely to be highly corrugated \n",
    "    # with a huge number of local minima. \n",
    "    #\n",
    "    # Gradient descent in such a landscape runs the risk that a minimizer\n",
    "    # could fall into a local minimum and stay there. If the local\n",
    "    # minimum is close to the global mininum there is no issue. But it\n",
    "    # would be an issue if the local minimum is far from the global \n",
    "    # minimum. \n",
    "    #\n",
    "    # The use of noisy estimates of local gradients makes it possible for\n",
    "    # a minimizer, just by chance, to escape from a local minimum and, \n",
    "    # therefore, more likely to find a local minimum closer to the global \n",
    "    # one. This idea suggests that perhaps we should begin with very \n",
    "    # noisy gradients. Then, if we notice the minimizer bouncing around \n",
    "    # neither going uphill nor downhill on the average, then we could \n",
    "    # surmise that it is actually bouncing around a minimum. Of course,\n",
    "    # we can never be certain that this is the global minimum, but, if it\n",
    "    # is, it would make sense to gradually increase the batch size until\n",
    "    # the minimizer settles down.\n",
    "\n",
    "    optimizer.step()       # move one step\n",
    "        \n",
    "def validate(model, train_x, train_y, val_x, val_y):\n",
    "    # make sure we set evaluation mode so that training specific\n",
    "    # operations such as dropout are disabled.\n",
    "    model.eval() # evaluation mode\n",
    "    \n",
    "    with torch.no_grad(): # no need to compute gradients wrt. x and y\n",
    "        # compute accuracy using training sample\n",
    "        x = torch.from_numpy(train_x)\n",
    "        y = torch.from_numpy(train_y)\n",
    "        o = model(x)\n",
    "        acc_t = accuracy(o, y)\n",
    "  \n",
    "        # compute accuracy using validation sample\n",
    "        x = torch.from_numpy(val_x)\n",
    "        y = torch.from_numpy(val_y)\n",
    "        o = model(x)\n",
    "        acc_v = accuracy(o, y)\n",
    "\n",
    "    return (acc_t, acc_v)\n",
    "               \n",
    "def trainModel(model, optimizer, avloss, \n",
    "               train_x, train_y,\n",
    "               val_x, val_y,\n",
    "               n_iterations, batch_size):\n",
    "    xx   = []\n",
    "    yy_t = []\n",
    "    yy_v = []\n",
    "\n",
    "    step = 100\n",
    "    \n",
    "    for ii in range(n_iterations):\n",
    "        # do one step of minimization\n",
    "        train(model, optimizer, avloss, \n",
    "              train_x, train_y, \n",
    "              batch_size)\n",
    "\n",
    "        # print out accuracies on training and validation data sets\n",
    "        \n",
    "        if ii % step == 0:\n",
    "            acc_t, acc_v = validate(model, \n",
    "                                    train_x, train_y, \n",
    "                                    val_x, val_y)\n",
    "            \n",
    "            print(\"\\r%10d\\t%10.4f\\t%10.4f\" % (ii, acc_t, acc_v), end='')\n",
    "        \n",
    "            xx.append(ii)\n",
    "            yy_t.append(acc_t)\n",
    "            yy_v.append(acc_v)\n",
    "            \n",
    "    return (xx, yy_t, yy_v)"
   ]
  },
  {
   "cell_type": "markdown",
   "metadata": {},
   "source": [
    "### Choose minimizer"
   ]
  },
  {
   "cell_type": "code",
   "execution_count": 15,
   "metadata": {},
   "outputs": [],
   "source": [
    "optimizer = torch.optim.Adam(model.parameters(), \n",
    "                             lr=learning_rate)"
   ]
  },
  {
   "cell_type": "code",
   "execution_count": 16,
   "metadata": {},
   "outputs": [
    {
     "name": "stdout",
     "output_type": "stream",
     "text": [
      "      9900\t    0.9993\t    0.9798done!\n"
     ]
    }
   ],
   "source": [
    "xx, yy_t, yy_v = trainModel(model, optimizer, avloss,\n",
    "                            train_x, train_y, \n",
    "                            val_x, val_y,\n",
    "                            n_iter, n_batch)\n",
    "print(\"\\ndone!\")"
   ]
  },
  {
   "cell_type": "code",
   "execution_count": 19,
   "metadata": {},
   "outputs": [],
   "source": [
    "def plot(xx, yy_t, yy_v):\n",
    "    # create an empty figure\n",
    "    fig = plt.figure(figsize=(5, 5))\n",
    "    \n",
    "    # add a subplot to it\n",
    "    nrows, ncols, index = 1,1,1\n",
    "    ax  = fig.add_subplot(nrows,ncols,index)\n",
    "    \n",
    "    # adjust y limits\n",
    "    ax.set_ylim((0.9, 1))\n",
    "    ax.set_xlim((0, xx[-1]))\n",
    "    \n",
    "    ax.plot(xx, yy_t, 'b', label='Training')\n",
    "    ax.plot(xx, yy_v, 'r', label='Validation')\n",
    "    ax.set_title('Training and Validation Errors')\n",
    "    ax.set_xlabel('Iterations', fontsize=16)\n",
    "    ax.set_ylabel('Accuracy', fontsize=16)\n",
    "    ax.grid(True, which=\"both\", linestyle='-')\n",
    "    ax.legend(loc='lower right')\n",
    "    \n",
    "    plt.show()"
   ]
  },
  {
   "cell_type": "code",
   "execution_count": 20,
   "metadata": {},
   "outputs": [
    {
     "data": {
      "image/png": "[encoded data removed]",
      "text/plain": [
       "<Figure size 360x360 with 1 Axes>"
      ]
     },
     "metadata": {
      "needs_background": "light"
     },
     "output_type": "display_data"
    }
   ],
   "source": [
    "plot(xx, yy_t, yy_v)"
   ]
  },
  {
   "cell_type": "markdown",
   "metadata": {},
   "source": [
    "### Save trained model"
   ]
  },
  {
   "cell_type": "code",
   "execution_count": 25,
   "metadata": {},
   "outputs": [],
   "source": [
    "torch.save(model.state_dict(), 'mnist_model_snn.pth')"
   ]
  }
 ],
 "metadata": {
  "kernelspec": {
   "display_name": "Python 3 (ipykernel)",
   "language": "python",
   "name": "python3"
  },
  "language_info": {
   "codemirror_mode": {
    "name": "ipython",
    "version": 3
   },
   "file_extension": ".py",
   "mimetype": "text/x-python",
   "name": "python",
   "nbconvert_exporter": "python",
   "pygments_lexer": "ipython3",
   "version": "3.9.13"
  }
 },
 "nbformat": 4,
 "nbformat_minor": 1
}
