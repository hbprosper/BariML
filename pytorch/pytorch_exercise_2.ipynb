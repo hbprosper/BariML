{
 "cells": [
  {
   "cell_type": "markdown",
   "metadata": {},
   "source": [
    "# PyTorch - Classification - 2\n",
    " >__Created__: October 2019, Bari, Italy\n",
    " \n",
    "\n",
    "## Introduction\n",
    "In this example, we use a convolutional neural network (CNN) to classify the digits in the MNIST data set. Each image is represented by a $(28, 28)$ matrix, with matrix element values in the set $[0, 1/255, \\cdots, 1]$. In practice, a __batch__ of images is stored in a 4-index tensor $\\mathbf{x}_{ncij}$ of __shape__ $(N, C, H, W)$. Just think of this as a 4-dimensional array each cell of which contains a pixel value. The first index (dim = 0) labels the ordinal value of an image in a batch of $N$ images; the second index (dim = 1) labels the number of __channels__, $C$, which for a gray scale image is $C = 1$, and would be $C = 3$ for a red, green, blue (RGB) image, while the last two indices (dim = 2, 3) label the pixels of an image of height and width $H$ and $W$, respectively. \n",
    "\n",
    "### Model\n",
    "\n",
    "A typical convolutional neural network (CNN) comprises an alternating sequence of convolutional and coarse-graining (or __down-sampling__) layers ending with a fully connected feedforward network. A convolutional layer cross-correlates its inputs with a kernel, while the coarse-graining layer reduces the size of its inputs while (typically) increasing the number of output channels. Here is a high-level view of the model:\n",
    "\n",
    "\\begin{align*}\n",
    "\\mathbf{y} & = \\mbox{softmax}(\\mathbf{b}_2 + \\mathbf{w}_2 {\\rm flatten}({\\rm relu} ({\\rm maxpool} (\\mathbf{b}_1 + {\\rm cc}(\\mathbf{w}_1, \\, {\\rm relu}({\\rm maxpool}(\\mathbf{b}_0 + {\\rm cc}(\\mathbf{w}_0, \\, \\mathbf{x})))))))),\n",
    "\\end{align*}\n",
    "\n",
    "where $\\mathbf{b}$ and $\\mathbf{w}$, the biases and weights, are the parameters of the model. The functions are defined as follows:\n",
    "\n",
    "  * __softmax__ For $K$ output classes, \n",
    "\\begin{align*}\n",
    "(\\mbox{softmax}(x))_k & = \\frac{\\exp(x_{(k)})}{\\sum_{j=0}^{K-1} \\exp(x_{(j)})} ,\n",
    "\\end{align*}\n",
    "where $x_{(k)}$ denotes the $k^\\mbox{th}$ output of the previous layer. The\n",
    "softmax function\n",
    "is used to bound the output values to the unit interval and ensure that \n",
    "their sum is unity. \n",
    "\n",
    "  * __flatten__ Given an input tensor $x$, this function restructures $x$ into a 1-dimensional array.\n",
    "\n",
    "  * __relu__ Given an input tensor $x$, the function \n",
    "\\begin{align*}\n",
    "{\\rm relu}(x) &= \\begin{cases}\n",
    "    x, & \\text{if } x \\gt 0\\\\\n",
    "    0              & \\text{otherwise}.\n",
    "\\end{cases}\n",
    "\\end{align*}\n",
    "is applied\n",
    "*element-wise*, that is, to every element of the tensor.\n",
    "\n",
    "  * __maxpool__ Given an input tensor $x$, this function uses a moveable window to apply a coarse-graining of $x$. In effect, the moveable window  splits the tensor into non-overlapping pieces. Then, for each piece, the maximum value within that piece is returned. For example, if $x$ is a 2-d tensor, e.g., a matrix, of shape (28, 28), and the window is of shape (2, 2), maxpool splits the original matrix into non-overlapping pieces of shape (2,2) and returns the maximum value within each piece, thereby creating a new matrix of shape (14, 14).\n",
    "\n",
    "  * __cc__ Given two tensors $x$ and $y$, this function returns their cross-correlation.\n",
    "\n",
    "\n",
    "A high-level view is a good way to represent the structure of a model.  But, it is also good to try to understand the details...at least once. As is often true, a detailed mathematical description of a complicated function is made easier using an example. \n",
    "\n",
    "#### Convolutional layer\n",
    "In this example, the data into the first convolutional layer is a single channel (gray scale) image $\\mathbf{x}$ of shape $(N, 1, 28, 28)$, that is, a tensor comprising $N$ images, each with a single channel ($C = 1)$, and each a $(28, 28)$ matrix of pixels. This tensor is cross-correlated with a 4-d tensor of weights $\\mathbf{w}_0$, with shape $(10, 1, 5, 5)$. We shall refer to the latter as a __kernel__ and each of its $10 \\times 1$, $(5, 5)$, matrices (or 2-d tensors) as a __filter__. The first index of the kernel is the number of __output channels__ (10), the second is the number of __input channels__ (1). Therefore, a given $(5, 5)$ filter is identified by two indices: its input and output channel numbers. The last two indices of the kernel are the height (5) and width (5), respectively, of its filters. \n",
    "\n",
    "(Unfortunately, the jargon is not consistent across the machine learning literature. What we call a filter is indeed often referred to as a filter, but it is also called a kernel, and what we call a kernel, that is, a stack of one or more filters, often has no specific name attached to it!) \n",
    "\n",
    "The operation of the convolutional layer for filters with odd-numbered height and width, e.g. $(5, 5)$, can be written as\n",
    "\n",
    "\\begin{align}\n",
    "    (\\mathbf{b}_0)_k + (\\mathbf{w}_0 \\otimes \\mathbf{x})_{nkij} &= (\\mathbf{b}_0)_k + \\sum_{c=0}^{C-1} \\sum_{r=-2}^2 \\sum_{s=-2}^2  \\mathbf{x}_{nc,\\, i+r,\\,j+s} \\, (\\mathbf{w}_0)_{kcrs}, \\quad i, j = 0,\\cdots, 27 ,\n",
    "\\end{align}\n",
    "\n",
    "where, we have chosen to label the central matrix element of a filter with the indices $(0, 0)$ and the other elements with indices that can be positive or negative integers. In the above expression, for a given pixel $i, j$, the filter labeled $k, c$, is cross-correlated with channel $c$ of input image $n$ and a sum over the cross-correlated input channels, that is, over the index $c$, is performed. \n",
    "\n",
    "However, for the above computations to work as shown, we need (in effect) to surround each image with extra strips of pixels. This operation is called __padding__. In the following, we choose to pad each image with 2 strips of pixels, with value zero. This padding makes it possible to center the $(5, 5)$ filters on every pixel, $i, j$, within the image. Had we used, for example, $(3, 5)$ filters, the appropriate padding shape would be $(1, 2)$, that is, 1 extra strip of pixels along the top and bottom of the image and 2 extra strips along the left and right sides of the image. But we are free to make other choices.\n",
    "\n",
    "Since the input image is a $(28, 28)$ matrix padded with 2 strips of pixels around the boundary, and each filter is a $(5, 5)$ matrix,\n",
    "the output of the convolution step will be a tensor of shape $(N, 10, 28, 28)$ provided that we use a __stride__ of 1, that is, if during the cross-correlation, we shift the filters a horizontal or vertical step of 1 pixel. Other choices are possible. By\n",
    "construction, the output of this convolutional layer is $N$, 10-channel images, of the same size as the original. \n",
    "\n",
    "#### Coarse-graining layer\n",
    "A convolutional layer is usually followed by a coarse-graining layer that reduces the number of pixels per image. In this example, the number of pixels in the image created by the convolutional layer is reduced by a factor 2 in both directions; that is, each of the 10 channels of the $(28, 28)$ image is coarse-grained, or down-sampled, into a $(14, 14)$ channel by replacing the corresponding group of pixels of shape $(2, 2)$ with a pixel whose value is set to the largest value among the group of 4 pixels.  This operation, called __max-pooling__, can be expressed as\n",
    "\n",
    "\\begin{align}\n",
    "    {\\rm maxpool}(O)_{nkij} &= \\max{ \\{O_{nk,\\, 2i + r,\\, 2j + s} \\}_{r,\\,s = 0, 1} } \\quad i, j = 0,\\cdots, 13,\n",
    "\\end{align}\n",
    "\n",
    "where $O$ is the output of a convolutional layer. Again, other choices are possible.\n",
    "\n",
    "After max-pooling, the output tensor has shape $(N, 10, 14, 14)$. A relu __activation function__ is applied to each element of this tensor in order to complete one sequence of operations: cross-correlation, down-sampling, and activation. \n",
    "\n",
    "A second convolutional layer follows. This time, however, its input must match the output of the previous max-pooling operation, which contains $N$ sequences of images, each with 10 channels, and each a $(14, \\, 14)$ matrix padded with a 2-pixel boundary. The kernel in this layer contains $16 \\times 10$, $(5, 5)$, filters, that is, it is of shape $(16, 10, 5, 5)$. Each of the 160, $(5, 5)$, filters is cross-correlated with the corresponding input channel. The cross-correlated input channels are then summed pixel by pixel to yield  a 16-channel output image from this layer. In other words, we arrive at an output tensor of size $(N, 16, 14, 14)$.\n",
    "\n",
    "Finally, a second max-pooling layer is applied, which transforms the 16-channel image of shape $(14, 14)$ to a 16-channel image of shape $(7, 7)$. The image is then flattened into a 1-d tensor (basically, a 1-d array) of size $16 \\times 7 \\times 7 = 784$, which are the inputs of the final linear layer with 10 outputs. Finally, a softmax function is applied.\n",
    "\n",
    "\n",
    "### Discussion\n",
    "The net effect of the sequence of nested layers, prior to flattening, is to transform a multi-channel input image into a multi-channel output image. The hope is that the output image captures the most relevant features of the input image thereby improving the accuracy of the subsequent classification. But, why use cross-correlation?\n",
    "\n",
    "The intuition behind the cross-correlation operation is that natural images tend to have similar features in different parts of the image. A filter that is sensitive to vertical features would tend to produce an output image that enhances vertical features, while suppressing the expression of horizontal features. It therefore seems plausible that if one could design filters that are sensitive to different image features, the set of filters could potentially transform an image into another in which the most relevant features are enhanced while the least relevant are suppressed. \n",
    "\n",
    "In the early days of image recognition systems, researchers tried to describe in software what they considered to be the most relevant features in images. This proved to be extremely difficult and success was limited. Today hand-coding is no longer necessary because the values of the parameters of the kernels can be determined automatically by minimizing an appropriate loss function. However, the mere fact that a large number of images is needed to fit these parameters is evidence that current machine learning methods and models, while spectacularly successful, are still far removed from human learning methods and models. \n",
    "\n",
    "A young child need be shown labeled objects, cat, dog, doll, truck, car, just a few times before being able to classify them correctly. The child can do this even when the objects are presented to her or him in orientations that differ from the ones used during the \"training phase\". This extraordinary ability suggests that the child's brain constructs a fault tolerant model of each object using only its most relevant features and is able to match rapidly the input image with the stored, or perhaps auto-reconstructed, fault tolerant model. The model is clearly fault tolerant because the child is able to ignore \"faults\" such as viewing the objects in lighting that differs from that used during the \"training phase\", or ignoring the fact that now the car has lost a couple of wheels or the doll is now wearing different clothes and so on. \n",
    "\n",
    "In spite of the truly impressive recent successes, it is clear that machine learning-based artificial intelligence still has a long way to go. Of course, it could be that the age-old goal of building machines that think like humans is simply the wrong goal. After all, there are already many instances in which researchers have inadvertently succeeded in producing machines that mimic our prejudices, which is hardly progress. Therefore, perhaps we should embrace the \"artificial\" in artificial intelligence and the possibility that these machines will inevitably \"think\" differently from us. The trick, of course, is to have them \"think\" in a way that improves the human condition. It would not be helpful if, for example, our super-intelligent machine concluded that the best way to solve climate change is to eliminate one of its culprits, namely, the species Homo sapiens!\n",
    "\n",
    "### Loss function\n",
    "\n",
    "See description in pytorch\\_exercise\\_1. \n"
   ]
  },
  {
   "cell_type": "code",
   "execution_count": 2,
   "metadata": {},
   "outputs": [],
   "source": [
    "import os, sys\n",
    "import pandas as pd\n",
    "import numpy as np\n",
    "\n",
    "import matplotlib as mp\n",
    "import matplotlib.pyplot as plt\n",
    "\n",
    "import imageio as im\n",
    "import torch\n",
    "import torch.nn as nn\n",
    "import torch.nn.functional as F\n",
    "\n",
    "#  a function to save results\n",
    "import joblib as jb\n",
    "\n",
    "# to reload modules\n",
    "import importlib\n",
    "\n",
    "%matplotlib inline"
   ]
  },
  {
   "cell_type": "code",
   "execution_count": 5,
   "metadata": {},
   "outputs": [],
   "source": [
    "# update fonts\n",
    "FONTSIZE = 14\n",
    "font = {'family' : 'sans-serif',\n",
    "        'weight' : 'normal',\n",
    "        'size'   : FONTSIZE}\n",
    "mp.rc('font', **font)\n",
    "seed = 128\n",
    "rnd  = np.random.RandomState(seed)"
   ]
  },
  {
   "cell_type": "markdown",
   "metadata": {},
   "source": [
    "### Load Images\n",
    "If the files are do not exist, go to the __datasets__ folder and run the notebook __prepare_mnist_data.ipynb__ to create them."
   ]
  },
  {
   "cell_type": "code",
   "execution_count": 7,
   "metadata": {},
   "outputs": [],
   "source": [
    "train_x, train_y = jb.load('../datasets/mnist_train.pkl')\n",
    "test_x,  test_y  = jb.load('../datasets/mnist_test.pkl')"
   ]
  },
  {
   "cell_type": "markdown",
   "metadata": {},
   "source": [
    "### Plot first few  images\n",
    "Use imshow(..) and show() to display the image."
   ]
  },
  {
   "cell_type": "code",
   "execution_count": 8,
   "metadata": {},
   "outputs": [],
   "source": [
    "def plotImages(x, n_rows=2, n_cols=5, f_size=(10, 4)):\n",
    "    f, ax = plt.subplots(nrows=n_rows, \n",
    "                         ncols=n_cols, \n",
    "                         figsize=f_size)\n",
    "    # note use of flatten() to convert a matrix of shape (nrows, ncols)\n",
    "    # to a 1-d array.   \n",
    "    for image, ax in zip(x, ax.flatten()):\n",
    "        ax.imshow(image.reshape(28, 28), cmap='gray')\n",
    "        ax.axis('off')\n",
    "    plt.show()"
   ]
  },
  {
   "cell_type": "code",
   "execution_count": 9,
   "metadata": {},
   "outputs": [
    {
     "data": {
      "image/png": "[encoded data removed]",
      "text/plain": [
       "<Figure size 720x288 with 10 Axes>"
      ]
     },
     "metadata": {
      "needs_background": "light"
     },
     "output_type": "display_data"
    }
   ],
   "source": [
    "plotImages(train_x)"
   ]
  },
  {
   "cell_type": "markdown",
   "metadata": {},
   "source": [
    "### Prepare training and validation sets"
   ]
  },
  {
   "cell_type": "code",
   "execution_count": 10,
   "metadata": {},
   "outputs": [],
   "source": [
    "n_iter   = 10000            # number of iterations\n",
    "n_batch  = 128              # number of images/training batch\n",
    "learning_rate = 1.e-3\n",
    "train_fraction = 0.7        # fraction of data used for training"
   ]
  },
  {
   "cell_type": "code",
   "execution_count": 11,
   "metadata": {},
   "outputs": [
    {
     "name": "stdout",
     "output_type": "stream",
     "text": [
      "number of images for training:        42000\n",
      "number of images for validation:      18000\n",
      "validation batch size:                 5000\n",
      "number of images for testing:         10000\n"
     ]
    }
   ],
   "source": [
    "M = int(train_fraction*len(train_x))\n",
    "train_x, val_x = train_x[:M], train_x[M:]\n",
    "train_y, val_y = train_y[:M], train_y[M:]\n",
    "\n",
    "n_train = len(train_x)\n",
    "n_valid = len(val_x)\n",
    "n_test  = len(test_x)\n",
    "n_valid_b = 5000\n",
    "\n",
    "print(\"number of images for training:   %10d\" % n_train)\n",
    "print(\"number of images for validation: %10d\" % n_valid)\n",
    "print(\"validation batch size:           %10d\" % n_valid_b)\n",
    "print(\"number of images for testing:    %10d\" % n_test)\n",
    "\n",
    "x = torch.tensor(train_x[0].reshape(1, 1, 28, 28))"
   ]
  },
  {
   "cell_type": "markdown",
   "metadata": {},
   "source": []
  },
  {
   "cell_type": "markdown",
   "metadata": {},
   "source": [
    "### Define model\n",
    "Use some magic to write the following cell to a file, which can then be imported into another notebook. But, it seems we need to import the saved\n",
    "class afterwards!"
   ]
  },
  {
   "cell_type": "code",
   "execution_count": 12,
   "metadata": {},
   "outputs": [
    {
     "name": "stdout",
     "output_type": "stream",
     "text": [
      "Overwriting CNN.py\n"
     ]
    }
   ],
   "source": [
    "%%writefile CNN.py\n",
    "\n",
    "import torch.nn as nn\n",
    "import torch.nn.functional as F\n",
    "\n",
    "class Model(nn.Module):\n",
    "    \n",
    "    def __init__(self):\n",
    "\n",
    "        \"\"\"\n",
    "    A convolutional + fully-connected linear network.\n",
    "        \"\"\" \n",
    "        # call constructor of base (or super, or parent) class\n",
    "        super(Model, self).__init__()\n",
    "        \n",
    "        # Adding a padding of 2 will allow cross-correlation of the \n",
    "        # entire input image with the 10 filters. That way, we\n",
    "        # obtain output images that are the same size as the\n",
    "        # input images.\n",
    "        self.conv0 = nn.Conv2d(in_channels=1,    # input channels\n",
    "                               out_channels=10,  # output channels\n",
    "                               kernel_size=5,    # really filter size\n",
    "                               stride=1,       \n",
    "                               padding=2)\n",
    "        \n",
    "        self.conv1 = nn.Conv2d(in_channels=10, \n",
    "                               out_channels=16, \n",
    "                               kernel_size=5,\n",
    "                               stride=1,\n",
    "                               padding=2)\n",
    "        \n",
    "        # we end with a linear layer. we need to compute the number\n",
    "        # of inputs to that layer. Ignoring the first index of the output\n",
    "        # tensor from conv1, which simply labels the ordinal value of \n",
    "        # the image in the batch of images, we note the following:\n",
    "        # 1. conv0 outputs a tensor of size (10, 28, 28).\n",
    "        #    we then coarse-grain to a tensor of size (10, 14, 14)\n",
    "        # 2. conv1 outputs a tensor of size (16, 14, 14), which is\n",
    "        #    coarse-grained to one of size (16, 7, 7)\n",
    "        # 3. therefore, when flattened, the number of inputs to the\n",
    "        #    linear layer is\n",
    "        #    16 * 7 * 7 = 784\n",
    "        self.n_inputs = 16 * 7 * 7\n",
    "        #    and we have 10 outputs, one for each digit\n",
    "        self.linear0 = nn.Linear(self.n_inputs, 10)\n",
    "        \n",
    "    def __str__(self):\n",
    "        s = ''\n",
    "        for layer in [self.conv0, \n",
    "                      self.conv1,\n",
    "                      self.linear0]:\n",
    "            s += '%s\\n' % layer\n",
    "        return s\n",
    "    \n",
    "    # define (required) method to compute output of network\n",
    "    def forward(self, x):\n",
    "        \"\"\"\n",
    "        x:  input data (of type tensor) \n",
    "        \"\"\"\n",
    "        # conv0 expects a 4-d tensor, so reshape accordingly\n",
    "        # the -1 means the size is inferred from x\n",
    "        y = x.view(-1, 1, 28, 28)\n",
    "        \n",
    "        # 1. cross-correlate the input tensor of shape (-1, 1, 28, 28),\n",
    "        #    padded with a 2-pixel wide strip, with a (10, 1, 5, 5) kernel,\n",
    "        #    thereby producing an output tensor of shape (-1, 10, 28, 28)\n",
    "        # 2. coarse-grain with a (2,2) window, which shifts horizontally\n",
    "        #    and vertically 2 pixels at a time. This replaces the 10\n",
    "        #    (28, 28) channels by 10 (14, 14) channels, by replacing a \n",
    "        #    group of 4 pixels with one. The output tensor at this stage \n",
    "        #    has shape (-1, 10, 14, 14).\n",
    "        # 3. apply a relu function to every element of this tensor\n",
    "        y = F.relu(F.max_pool2d(self.conv0(y), 2))\n",
    "        \n",
    "        # 1. cross-correlate a (-1, 10, 14, 14) tensor, padded as above, \n",
    "        #    with a (16, 10, 5, 5) kernel and, for each (5, 5) filter, sum \n",
    "        #    over the 10 input channels. Since the kernel contains 16 \n",
    "        #    output channels, the end result is a 16-channel image. The \n",
    "        #    output therefore has shape (-1, 16, 14, 14).\n",
    "        # 2. coarse-grain with a (2,2) window, as above, thereby creating\n",
    "        #    an output tensor of shape (-1, 16, 7, 7).\n",
    "        # 3. apply a relu function element-wise (as above).\n",
    "        y = F.relu(F.max_pool2d(self.conv1(y), 2))\n",
    "       \n",
    "        # flatten the tensor (-1, 16, 7, 7) to the tensor (-1, 16*7*7).\n",
    "        y = y.view(-1, self.n_inputs)\n",
    "        \n",
    "        # During training (only), randomly dropout, that is, zero, \n",
    "        # half of the elements in the current tensor y. dropout has\n",
    "        # been shown to improve the training and yield better results.\n",
    "        # Dropout effectively deactivates all the weights attached \n",
    "        # to the zeroed element. Alternatively, it can be thought of as a\n",
    "        # way to apply random modifications to a multi-channel image by\n",
    "        # randomly setting half the pixels to zero at each iteration.\n",
    "        y = F.dropout(y, p=0.5, training=self.training)\n",
    "    \n",
    "        # Apply a linear transformation to the (-1, 784) tensor.\n",
    "        y = self.linear0(y)\n",
    "        \n",
    "        # Apply the softmax function horizontally, i.e., along \n",
    "        # the class axis (dim=1) in order to ensure that the outputs sum\n",
    "        # to unity.\n",
    "        # (Note: dim=0 is vertical, that is, along the batch axis.)\n",
    "        \n",
    "        # Final output: estimated class probabilities for ith image,\n",
    "        #   q_i(k) = exp(y_i(k) / sum_j exp(y_i(j)), j = 0,..., K-1,\n",
    "        # where K=10 is the number of classes and y_i(k) is the output \n",
    "        # for the ith feature vector for class index k. \n",
    "        \n",
    "        y = F.softmax(y, dim=1)\n",
    "\n",
    "        return y"
   ]
  },
  {
   "cell_type": "markdown",
   "metadata": {},
   "source": [
    "### Create an instance of the model"
   ]
  },
  {
   "cell_type": "code",
   "execution_count": 13,
   "metadata": {},
   "outputs": [
    {
     "data": {
      "text/plain": [
       "CNN(\n",
       "  (conv0): Conv2d(1, 10, kernel_size=(5, 5), stride=(1, 1), padding=(2, 2))\n",
       "  (conv1): Conv2d(10, 16, kernel_size=(5, 5), stride=(1, 1), padding=(2, 2))\n",
       "  (linear0): Linear(in_features=784, out_features=10, bias=True)\n",
       ")"
      ]
     },
     "execution_count": 13,
     "metadata": {},
     "output_type": "execute_result"
    }
   ],
   "source": [
    "import CNN\n",
    "importlib.reload(CNN)\n",
    "model = CNN.Model()\n",
    "model"
   ]
  },
  {
   "cell_type": "markdown",
   "metadata": {},
   "source": [
    "### Define loss function"
   ]
  },
  {
   "cell_type": "code",
   "execution_count": 14,
   "metadata": {},
   "outputs": [],
   "source": [
    "class AverageLoss():\n",
    "    def __init__(self):\n",
    "        pass\n",
    "    \n",
    "    def __call__(self, outputs, targets):\n",
    "        \"\"\"\n",
    "        outputs:  shape (batch_size, number_classes), pre-softmax outputs\n",
    "        targets:  shape (batch_size, ), class indices [0,...,C-1] \n",
    "        \"\"\"\n",
    "        batch_size = len(outputs)\n",
    "        \n",
    "        # ---------------------------------------------------------------       \n",
    "        # The cross entropy is defined by\n",
    "        #   H(p, q) = -sum_i p_i log(q_i)\n",
    "        #\n",
    "        # The entropy is defined by\n",
    "        #   H(p)    = -sum_i p_i log(p_i)\n",
    "        # and the Kullback-Leibler divergence by\n",
    "        #   D(p||q) = -sum_i p_i log(p_i/q_i)\n",
    "        #           = -sum_i p_i log(p_i) + sum_i p_i log(q_i)\n",
    "        #           = H(p) - H(p, q)\n",
    "        # Therefore, the cross entropy is minimized when the estimated \n",
    "        # probabilities q_i match the true probabilities p_i, in which \n",
    "        # case the cross entropy equals the entropy.\n",
    "        # --------------------------------------------------------------- \n",
    "        \n",
    "        # Note the numpy-like syntax for accessing elements of the\n",
    "        # tensor: outputs[list1, list2] \n",
    "        # Note also: range(batch_size) is [0,...batch_size-1]\n",
    "        #\n",
    "        # outputs is a (-1, 10) tensor. for each image pick the output \n",
    "        # value corresponding to its class. recall that targets is a 1-d \n",
    "        # tensor (basically, a 1-d array) of class labels. \n",
    "        outputs = outputs[range(batch_size), targets]\n",
    "        return -torch.sum(torch.log(outputs)) / batch_size"
   ]
  },
  {
   "cell_type": "code",
   "execution_count": 15,
   "metadata": {},
   "outputs": [],
   "source": [
    "avloss = AverageLoss()"
   ]
  },
  {
   "cell_type": "markdown",
   "metadata": {},
   "source": [
    "### Get batch\n",
    "Get a random sample from the training set of size $batch\\_size$"
   ]
  },
  {
   "cell_type": "code",
   "execution_count": 16,
   "metadata": {},
   "outputs": [],
   "source": [
    "def randomBatch(train_x, train_y, batch_size):\n",
    "    rows    = rnd.choice(len(train_x), batch_size)\n",
    "    batch_x = train_x[rows]\n",
    "    batch_y = train_y[rows]\n",
    "    return (batch_x, batch_y)"
   ]
  },
  {
   "cell_type": "markdown",
   "metadata": {},
   "source": [
    "### Accuracy\n",
    "Fraction of correct predictions"
   ]
  },
  {
   "cell_type": "code",
   "execution_count": 17,
   "metadata": {},
   "outputs": [],
   "source": [
    "def accuracy(outputs, targets):\n",
    "    # For each image, return its predicted class label using argmax.\n",
    "    #\n",
    "    # argmax scans the numpy along the specified axis, here the \n",
    "    # horizontal axis, which is in the class direction, and returns the\n",
    "    # ordinal value of the maximum value, which is the predicted class. \n",
    "    # Note: outputs must be converted from a tensor to a numpy array \n",
    "    # before being passed to argmax.\n",
    "    outputs = np.argmax(outputs.data.numpy(), axis=1)\n",
    "    # count how often the predicted class matches the actual class and\n",
    "    # compute the fraction of correct predictions. \n",
    "    # Note: targets must be converted to a numpy array for the comparison\n",
    "    # to work since outputs is a numpy array.\n",
    "    return float(np.sum(outputs==targets.data.numpy())) / len(targets)"
   ]
  },
  {
   "cell_type": "markdown",
   "metadata": {},
   "source": [
    "### Trainer"
   ]
  },
  {
   "cell_type": "code",
   "execution_count": 18,
   "metadata": {},
   "outputs": [],
   "source": [
    "def train(model, optimizer, loss_fn, train_x, train_y, batch_size):\n",
    "    model.train() # training mode\n",
    "    \n",
    "    # get a random sequence of training data\n",
    "    batch_x, batch_y = randomBatch(train_x, train_y, batch_size)\n",
    "\n",
    "    # convert data from numpy arrays to tensors\n",
    "    with torch.no_grad():  # no need to compute gradients wrt. to x, y\n",
    "        x = torch.from_numpy(batch_x)\n",
    "        y = torch.from_numpy(batch_y)       \n",
    "    \n",
    "    # compute output of model\n",
    "    outputs = model(x)\n",
    "    \n",
    "    # compute loss functions, given the model outputs and the targets\n",
    "    loss    = loss_fn(outputs, y)        \n",
    "    optimizer.zero_grad()  # clear previous gradients\n",
    "    loss.backward()        # compute gradients\n",
    "    optimizer.step()       # move one step\n",
    "        \n",
    "def validate(model, train_x, train_y, val_x, val_y):\n",
    "    model.eval() # evaluation mode\n",
    "    with torch.no_grad():  # no need to compute gradients wrt. to x, y\n",
    "        \n",
    "        # to speed things up, use a random subset of n_valid_b images.\n",
    "        batch_x, batch_y = randomBatch(train_x, train_y, n_valid_b)\n",
    "        x = torch.from_numpy(batch_x)\n",
    "        y = torch.from_numpy(batch_y)       \n",
    "        o = model(x)\n",
    "        acc_t = accuracy(o, y)\n",
    "          \n",
    "        batch_x, batch_y = randomBatch(val_x, val_y, n_valid_b)  \n",
    "        x = torch.from_numpy(batch_x)\n",
    "        y = torch.from_numpy(batch_y)      \n",
    "        o = model(x)\n",
    "        acc_v = accuracy(o, y)\n",
    "\n",
    "    return (acc_t, acc_v)\n",
    "               \n",
    "def trainModel(model, optimizer, loss_fn, \n",
    "               train_x, train_y,\n",
    "               val_x, val_y,\n",
    "               n_iterations, batch_size):\n",
    "    xx   = []\n",
    "    yy_t = []\n",
    "    yy_v = []\n",
    "\n",
    "    step = 100\n",
    "    \n",
    "    for ii in range(n_iterations):\n",
    "        train(model, optimizer, loss_fn, \n",
    "              train_x, train_y, \n",
    "              batch_size)\n",
    "\n",
    "        if ii % step == 0:\n",
    "            acc_t, acc_v = validate(model, \n",
    "                                    train_x, train_y, \n",
    "                                    val_x, val_y)\n",
    "            \n",
    "            print(\"\\r%10d\\t%10.4f\\t%10.4f\" % (ii, acc_t, acc_v), end='')\n",
    "        \n",
    "            xx.append(ii)\n",
    "            yy_t.append(acc_t)\n",
    "            yy_v.append(acc_v)\n",
    "            \n",
    "    return (xx, yy_t, yy_v)"
   ]
  },
  {
   "cell_type": "markdown",
   "metadata": {},
   "source": [
    "### Choose minimizer"
   ]
  },
  {
   "cell_type": "code",
   "execution_count": 19,
   "metadata": {},
   "outputs": [],
   "source": [
    "optimizer = torch.optim.Adam(model.parameters(), \n",
    "                             lr=learning_rate)"
   ]
  },
  {
   "cell_type": "markdown",
   "metadata": {},
   "source": [
    "### Train and validate"
   ]
  },
  {
   "cell_type": "code",
   "execution_count": null,
   "metadata": {},
   "outputs": [
    {
     "name": "stdout",
     "output_type": "stream",
     "text": [
      "         0\t    0.1254\t    0.1300\n",
      "         1\t    0.1336\t    0.1364\n",
      "         2\t    0.1354\t    0.1290\n",
      "         3\t    0.1414\t    0.1424\n",
      "         4\t    0.1660\t    0.1630\n",
      "         5\t    0.2122\t    0.2058\n",
      "         6\t    0.3018\t    0.2936\n",
      "         7\t    0.4418\t    0.4430\n",
      "         8\t    0.5244\t    0.5300\n",
      "         9\t    0.5680\t    0.5680\n",
      "        10\t    0.5640\t    0.5760\n",
      "        11\t    0.5554\t    0.5856\n",
      "        12\t    0.5526\t    0.5782\n",
      "        13\t    0.5510\t    0.5704\n",
      "        14\t    0.5388\t    0.5584\n",
      "        15\t    0.5502\t    0.5558\n",
      "        16\t    0.5750\t    0.5910\n",
      "        17\t    0.6010\t    0.6260\n",
      "        18\t    0.5980\t    0.6042\n",
      "        19\t    0.6398\t    0.6568\n",
      "        20\t    0.6798\t    0.7006\n",
      "        30\t    0.7160\t    0.7270\n",
      "        40\t    0.7704\t    0.7804\n",
      "        50\t    0.8104\t    0.8214\n",
      "        60\t    0.8516\t    0.8566\n",
      "        70\t    0.8684\t    0.8696\n",
      "        80\t    0.8834\t    0.8816\n",
      "        90\t    0.8818\t    0.8890\n",
      "       100\t    0.8886\t    0.8864\n",
      "       200\t    0.9438\t    0.9400\n",
      "       300\t    0.9528\t    0.9520\n",
      "       400\t    0.9632\t    0.9526\n",
      "       500\t    0.9636\t    0.9628\n",
      "       600\t    0.9700\t    0.9674\n",
      "       700\t    0.9686\t    0.9656\n",
      "       800\t    0.9698\t    0.9756\n",
      "       900\t    0.9752\t    0.9736\n",
      "      1000\t    0.9756\t    0.9744\n",
      "      1500\t    0.9824\t    0.9780\n",
      "      2000\t    0.9854\t    0.9782\n",
      "      2500\t    0.9880\t    0.9842\n",
      "      3000\t    0.9872\t    0.9834\n",
      "      3500\t    0.9880\t    0.9848\n",
      "      4000\t    0.9888\t    0.9864\n",
      "      4500\t    0.9872\t    0.9868\n",
      "      5000\t    0.9894\t    0.9820\n",
      "      5500\t    0.9902\t    0.9868\n",
      "      6000\t    0.9900\t    0.9880\n",
      "      6500\t    0.9936\t    0.9876\n",
      "      7000\t    0.9924\t    0.9880\n",
      "      7500\t    0.9920\t    0.9884\n"
     ]
    }
   ],
   "source": [
    "xx, yy_t, yy_v = trainModel(model, optimizer, loss_fn,\n",
    "                            train_x, train_y, \n",
    "                            val_x,   val_y,\n",
    "                            n_iter,  n_batch)\n",
    "print(\"done!\")"
   ]
  },
  {
   "cell_type": "code",
   "execution_count": 32,
   "metadata": {},
   "outputs": [],
   "source": [
    "def plot(xx, yy_t, yy_v):\n",
    "    # Note: every element in a plot is an Artist object! \n",
    "    # create an empty figure\n",
    "    fig = plt.figure(figsize=(5, 5))\n",
    "    # add a subplot to it\n",
    "    nrows, ncols, index = 1,1,1\n",
    "    ax  = fig.add_subplot(nrows,ncols,index)\n",
    "    # adjust y limits\n",
    "    axes = ax.axes\n",
    "    axes.set_ylim((0.8, 1))\n",
    "    axes.set_xlim((0, xx[-1]))\n",
    "    \n",
    "    plt.plot(xx, yy_t, 'b', label='Training')\n",
    "    plt.plot(xx, yy_v, 'r', label='Validation')\n",
    "    plt.title('Training and Validation Errors')\n",
    "    plt.xlabel('Iterations', fontsize=16)\n",
    "    plt.ylabel('Accuracy', fontsize=16)\n",
    "    plt.grid(True, which=\"both\", linestyle='-')\n",
    "    plt.legend(loc='lower right')\n",
    "    plt.show()"
   ]
  },
  {
   "cell_type": "code",
   "execution_count": 33,
   "metadata": {},
   "outputs": [
    {
     "data": {
      "image/png": "[encoded data removed]",
      "text/plain": [
       "<matplotlib.figure.Figure at 0x1238931d0>"
      ]
     },
     "metadata": {},
     "output_type": "display_data"
    }
   ],
   "source": [
    "plot(xx, yy_t, yy_v)"
   ]
  },
  {
   "cell_type": "markdown",
   "metadata": {},
   "source": [
    "### Save model state"
   ]
  },
  {
   "cell_type": "code",
   "execution_count": 34,
   "metadata": {},
   "outputs": [
    {
     "name": "stdout",
     "output_type": "stream",
     "text": [
      "model details\n",
      "  conv0.weight    \ttorch.Size([10, 1, 5, 5])\n",
      "  conv0.bias      \ttorch.Size([10])\n",
      "  conv1.weight    \ttorch.Size([16, 10, 5, 5])\n",
      "  conv1.bias      \ttorch.Size([16])\n",
      "  linear0.weight  \ttorch.Size([10, 784])\n",
      "  linear0.bias    \ttorch.Size([10])\n"
     ]
    }
   ],
   "source": [
    "print(\"model details\")\n",
    "for key in model.state_dict():\n",
    "    print('  %-16s\\t%s' % (key, model.state_dict()[key].size()))"
   ]
  },
  {
   "cell_type": "code",
   "execution_count": 35,
   "metadata": {},
   "outputs": [],
   "source": [
    "torch.save(model.state_dict(), 'mnist_model_cnn.pth')"
   ]
  },
  {
   "cell_type": "code",
   "execution_count": null,
   "metadata": {},
   "outputs": [],
   "source": []
  }
 ],
 "metadata": {
  "kernelspec": {
   "display_name": "Python 3 (ipykernel)",
   "language": "python",
   "name": "python3"
  },
  "language_info": {
   "codemirror_mode": {
    "name": "ipython",
    "version": 3
   },
   "file_extension": ".py",
   "mimetype": "text/x-python",
   "name": "python",
   "nbconvert_exporter": "python",
   "pygments_lexer": "ipython3",
   "version": "3.8.11"
  }
 },
 "nbformat": 4,
 "nbformat_minor": 1
}
